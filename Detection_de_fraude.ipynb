{
 "cells": [
  {
   "cell_type": "markdown",
   "metadata": {
    "colab_type": "text",
    "id": "QdOspemUimaH"
   },
   "source": [
    "# Projet de machine learning : Détection de transactions frauduleuses"
   ]
  },
  {
   "cell_type": "markdown",
   "metadata": {
    "colab_type": "text",
    "id": "epyQuby6imaP"
   },
   "source": [
    "\n",
    "- DIARRASSOUBA Sakaria\n",
    "\n",
    "Janvier 2020"
   ]
  },
  {
   "cell_type": "markdown",
   "metadata": {
    "colab_type": "text",
    "id": "zPlLrj32imaT"
   },
   "source": [
    "Dans le cadre de ce projet de machine learning, nous avons souhaité travailler sur la détection de transactions frauduleuses en ligne. L'objectif de ce notebook est de présenter le travail que nous avons effectué : les différents algorithmes que nous avons implémentés ainsi que les reflexions menées. Pour cela, dans une première partie nous présenterons : la problématique de ce projet ainsi que la base de données et les différents traitements effectuées sur celle-ci. Ensuite, dans un second temps nous détaillerons les différents algorithmes testés. Enfin, nous comparerons ces derniers et évoquerons les difficultés rencontrées et les pistes d'amélioration possibles. "
   ]
  },
  {
   "cell_type": "markdown",
   "metadata": {
    "colab_type": "text",
    "id": "ibGUgjoSimaY"
   },
   "source": [
    "## Sommaire :\n",
    "- I- Problématique et base de données \n",
    "- II- Arbre de décision\n",
    "- III- Random Forest\n",
    "- IV- Réseau de neurones\n",
    "- V- Gradient Boosting\n",
    "- VI- Support Vector Machine\n",
    "- VII- Conclusion "
   ]
  },
  {
   "cell_type": "markdown",
   "metadata": {},
   "source": [
    "  "
   ]
  },
  {
   "cell_type": "markdown",
   "metadata": {
    "colab_type": "text",
    "id": "G-vmBXdZima5"
   },
   "source": [
    "# I- Problématique et base de données "
   ]
  },
  {
   "cell_type": "markdown",
   "metadata": {
    "colab_type": "text",
    "id": "HO72QlY-ima8"
   },
   "source": [
    "Nous avons choisi d'utiliser une base de données libre de droits qui fait l'objet d'une [compétition Kaggle](https://www.kaggle.com/c/ieee-fraud-detection/data). Celle-ci est proposée par l'institut IEEE Computational Intelligence Society (IEEE-CIS) qui travaille sur divers sujets de machine learning et la société de services de paiement Vesta. Les données sont constituées de transactions de commerce électronique de Vesta et contiennent différentes caractéristiques telles que le type d'appareil de paiement ou les caractéristiques du produit acheté. Pour chaque transaction nous disposons d'une variable nommée \"isFraud\" qui vaut 1 si la transaction est frauduleuse et 0 sinon.   \n",
    "Les tables de données d'entrainement et de test sont chacunes divisées en deux fichiers :\n",
    "\n",
    "- train_transaction.csv et test_transaction.csv : qui correspondent aux informations sur chaque transaction : le fait qu'elle soit frauduleuse, le type de produit acheté, le montant de la transaction, les informations sur la carte de paiement etc. \n",
    "\n",
    "\n",
    "- train_identity.csv et test_identity.csv : les variables de ces tables sont les informations d'identité : informations de connexion réseau (IP, FAI, proxy, etc.), signature numérique (UA/navigateur/os/version, etc.) associées au client qui a effectué les transactions. Elles sont recueillies par le système de protection contre la fraude de Vesta et ses partenaires de sécurité numérique. Pour des raisons de protection des données privées les noms des champs sont masqués.\n",
    "\n",
    "Ces deux fichiers sont joints par la variable \"TransactionID\" qui représente l'ID unique d'une transaction. Par ailleurs, les transactions n'ont pas toutes les informations d'identité correspondantes.\n",
    "\n",
    "\n",
    "Problématique : l'objectif est de prédire à partir des informations dont nous disposons pour chaque transaction si elle est frauduleuse ou non. Il s'agit donc d'un problème de classification supervisée à deux classes."
   ]
  },
  {
   "cell_type": "markdown",
   "metadata": {
    "colab_type": "text",
    "id": "sF1EcEuXimaf"
   },
   "source": [
    "## I- 0. Import des bibliothèques"
   ]
  },
  {
   "cell_type": "code",
   "execution_count": 2,
   "metadata": {
    "colab": {},
    "colab_type": "code",
    "id": "QSMv6F_-N6hN"
   },
   "outputs": [],
   "source": [
    "import pandas as pd\n",
    "import numpy as np\n",
    "from sklearn.impute import SimpleImputer\n",
    "import matplotlib.pyplot as plt\n",
    "import seaborn as sns\n",
    "import time\n",
    "from sklearn.metrics import mean_squared_error\n",
    "from sklearn.model_selection import train_test_split\n",
    "from sklearn.metrics import roc_curve, roc_auc_score\n",
    "from sklearn.metrics import confusion_matrix\n",
    "from sklearn.preprocessing import LabelEncoder, OneHotEncoder"
   ]
  },
  {
   "cell_type": "markdown",
   "metadata": {
    "colab_type": "text",
    "id": "6iTvIGdIN6hR"
   },
   "source": [
    "## I- 1. Chargement des bases de données"
   ]
  },
  {
   "cell_type": "markdown",
   "metadata": {
    "colab_type": "text",
    "id": "f8fbTzVZN6hS"
   },
   "source": [
    "### Base de données d'entrainement"
   ]
  },
  {
   "cell_type": "markdown",
   "metadata": {
    "colab_type": "text",
    "id": "dWhVZRIdimbG"
   },
   "source": [
    "La base de données d'entrainement identity est constituée de 144233 identités et 41 variables numériques et catégorielles. \n",
    "La base de données d'entrainement transaction est constituée de 590540 transactions et 394 variables numériques et catégorielles."
   ]
  },
  {
   "cell_type": "code",
   "execution_count": 3,
   "metadata": {
    "colab": {
     "base_uri": "https://localhost:8080/",
     "height": 54
    },
    "colab_type": "code",
    "id": "Nqt_6XnpN6hU",
    "outputId": "66ed2569-6b2c-46ac-f84f-6e9b3a89d995"
   },
   "outputs": [
    {
     "name": "stdout",
     "output_type": "stream",
     "text": [
      "CPU times: user 21.7 s, sys: 7.14 s, total: 28.8 s\n",
      "Wall time: 29.1 s\n"
     ]
    }
   ],
   "source": [
    "%%time\n",
    "train_identity=pd.read_csv(\"datasets/train_identity.csv\")\n",
    "train_transaction=pd.read_csv(\"datasets/train_transaction.csv\")"
   ]
  },
  {
   "cell_type": "code",
   "execution_count": 4,
   "metadata": {
    "colab": {
     "base_uri": "https://localhost:8080/",
     "height": 384
    },
    "colab_type": "code",
    "id": "SOYtvsWFN6hX",
    "outputId": "413165bb-adaa-4452-a5eb-04d9a0d01606"
   },
   "outputs": [
    {
     "name": "stdout",
     "output_type": "stream",
     "text": [
      "(144233, 41)\n"
     ]
    },
    {
     "data": {
      "text/html": [
       "<div>\n",
       "<style scoped>\n",
       "    .dataframe tbody tr th:only-of-type {\n",
       "        vertical-align: middle;\n",
       "    }\n",
       "\n",
       "    .dataframe tbody tr th {\n",
       "        vertical-align: top;\n",
       "    }\n",
       "\n",
       "    .dataframe thead th {\n",
       "        text-align: right;\n",
       "    }\n",
       "</style>\n",
       "<table border=\"1\" class=\"dataframe\">\n",
       "  <thead>\n",
       "    <tr style=\"text-align: right;\">\n",
       "      <th></th>\n",
       "      <th>TransactionID</th>\n",
       "      <th>id_01</th>\n",
       "      <th>id_02</th>\n",
       "      <th>id_03</th>\n",
       "      <th>id_04</th>\n",
       "      <th>id_05</th>\n",
       "      <th>id_06</th>\n",
       "      <th>id_07</th>\n",
       "      <th>id_08</th>\n",
       "      <th>id_09</th>\n",
       "      <th>...</th>\n",
       "      <th>id_31</th>\n",
       "      <th>id_32</th>\n",
       "      <th>id_33</th>\n",
       "      <th>id_34</th>\n",
       "      <th>id_35</th>\n",
       "      <th>id_36</th>\n",
       "      <th>id_37</th>\n",
       "      <th>id_38</th>\n",
       "      <th>DeviceType</th>\n",
       "      <th>DeviceInfo</th>\n",
       "    </tr>\n",
       "  </thead>\n",
       "  <tbody>\n",
       "    <tr>\n",
       "      <th>0</th>\n",
       "      <td>2987004</td>\n",
       "      <td>0.0</td>\n",
       "      <td>70787.0</td>\n",
       "      <td>NaN</td>\n",
       "      <td>NaN</td>\n",
       "      <td>NaN</td>\n",
       "      <td>NaN</td>\n",
       "      <td>NaN</td>\n",
       "      <td>NaN</td>\n",
       "      <td>NaN</td>\n",
       "      <td>...</td>\n",
       "      <td>samsung browser 6.2</td>\n",
       "      <td>32.0</td>\n",
       "      <td>2220x1080</td>\n",
       "      <td>match_status:2</td>\n",
       "      <td>T</td>\n",
       "      <td>F</td>\n",
       "      <td>T</td>\n",
       "      <td>T</td>\n",
       "      <td>mobile</td>\n",
       "      <td>SAMSUNG SM-G892A Build/NRD90M</td>\n",
       "    </tr>\n",
       "    <tr>\n",
       "      <th>1</th>\n",
       "      <td>2987008</td>\n",
       "      <td>-5.0</td>\n",
       "      <td>98945.0</td>\n",
       "      <td>NaN</td>\n",
       "      <td>NaN</td>\n",
       "      <td>0.0</td>\n",
       "      <td>-5.0</td>\n",
       "      <td>NaN</td>\n",
       "      <td>NaN</td>\n",
       "      <td>NaN</td>\n",
       "      <td>...</td>\n",
       "      <td>mobile safari 11.0</td>\n",
       "      <td>32.0</td>\n",
       "      <td>1334x750</td>\n",
       "      <td>match_status:1</td>\n",
       "      <td>T</td>\n",
       "      <td>F</td>\n",
       "      <td>F</td>\n",
       "      <td>T</td>\n",
       "      <td>mobile</td>\n",
       "      <td>iOS Device</td>\n",
       "    </tr>\n",
       "    <tr>\n",
       "      <th>2</th>\n",
       "      <td>2987010</td>\n",
       "      <td>-5.0</td>\n",
       "      <td>191631.0</td>\n",
       "      <td>0.0</td>\n",
       "      <td>0.0</td>\n",
       "      <td>0.0</td>\n",
       "      <td>0.0</td>\n",
       "      <td>NaN</td>\n",
       "      <td>NaN</td>\n",
       "      <td>0.0</td>\n",
       "      <td>...</td>\n",
       "      <td>chrome 62.0</td>\n",
       "      <td>NaN</td>\n",
       "      <td>NaN</td>\n",
       "      <td>NaN</td>\n",
       "      <td>F</td>\n",
       "      <td>F</td>\n",
       "      <td>T</td>\n",
       "      <td>T</td>\n",
       "      <td>desktop</td>\n",
       "      <td>Windows</td>\n",
       "    </tr>\n",
       "    <tr>\n",
       "      <th>3</th>\n",
       "      <td>2987011</td>\n",
       "      <td>-5.0</td>\n",
       "      <td>221832.0</td>\n",
       "      <td>NaN</td>\n",
       "      <td>NaN</td>\n",
       "      <td>0.0</td>\n",
       "      <td>-6.0</td>\n",
       "      <td>NaN</td>\n",
       "      <td>NaN</td>\n",
       "      <td>NaN</td>\n",
       "      <td>...</td>\n",
       "      <td>chrome 62.0</td>\n",
       "      <td>NaN</td>\n",
       "      <td>NaN</td>\n",
       "      <td>NaN</td>\n",
       "      <td>F</td>\n",
       "      <td>F</td>\n",
       "      <td>T</td>\n",
       "      <td>T</td>\n",
       "      <td>desktop</td>\n",
       "      <td>NaN</td>\n",
       "    </tr>\n",
       "    <tr>\n",
       "      <th>4</th>\n",
       "      <td>2987016</td>\n",
       "      <td>0.0</td>\n",
       "      <td>7460.0</td>\n",
       "      <td>0.0</td>\n",
       "      <td>0.0</td>\n",
       "      <td>1.0</td>\n",
       "      <td>0.0</td>\n",
       "      <td>NaN</td>\n",
       "      <td>NaN</td>\n",
       "      <td>0.0</td>\n",
       "      <td>...</td>\n",
       "      <td>chrome 62.0</td>\n",
       "      <td>24.0</td>\n",
       "      <td>1280x800</td>\n",
       "      <td>match_status:2</td>\n",
       "      <td>T</td>\n",
       "      <td>F</td>\n",
       "      <td>T</td>\n",
       "      <td>T</td>\n",
       "      <td>desktop</td>\n",
       "      <td>MacOS</td>\n",
       "    </tr>\n",
       "  </tbody>\n",
       "</table>\n",
       "<p>5 rows × 41 columns</p>\n",
       "</div>"
      ],
      "text/plain": [
       "   TransactionID  id_01     id_02  id_03  id_04  id_05  id_06  id_07  id_08  \\\n",
       "0        2987004    0.0   70787.0    NaN    NaN    NaN    NaN    NaN    NaN   \n",
       "1        2987008   -5.0   98945.0    NaN    NaN    0.0   -5.0    NaN    NaN   \n",
       "2        2987010   -5.0  191631.0    0.0    0.0    0.0    0.0    NaN    NaN   \n",
       "3        2987011   -5.0  221832.0    NaN    NaN    0.0   -6.0    NaN    NaN   \n",
       "4        2987016    0.0    7460.0    0.0    0.0    1.0    0.0    NaN    NaN   \n",
       "\n",
       "   id_09  ...                id_31  id_32      id_33           id_34  id_35  \\\n",
       "0    NaN  ...  samsung browser 6.2   32.0  2220x1080  match_status:2      T   \n",
       "1    NaN  ...   mobile safari 11.0   32.0   1334x750  match_status:1      T   \n",
       "2    0.0  ...          chrome 62.0    NaN        NaN             NaN      F   \n",
       "3    NaN  ...          chrome 62.0    NaN        NaN             NaN      F   \n",
       "4    0.0  ...          chrome 62.0   24.0   1280x800  match_status:2      T   \n",
       "\n",
       "  id_36 id_37  id_38  DeviceType                     DeviceInfo  \n",
       "0     F     T      T      mobile  SAMSUNG SM-G892A Build/NRD90M  \n",
       "1     F     F      T      mobile                     iOS Device  \n",
       "2     F     T      T     desktop                        Windows  \n",
       "3     F     T      T     desktop                            NaN  \n",
       "4     F     T      T     desktop                          MacOS  \n",
       "\n",
       "[5 rows x 41 columns]"
      ]
     },
     "execution_count": 4,
     "metadata": {},
     "output_type": "execute_result"
    }
   ],
   "source": [
    "print(train_identity.shape)\n",
    "train_identity.head()"
   ]
  },
  {
   "cell_type": "code",
   "execution_count": 5,
   "metadata": {
    "colab": {
     "base_uri": "https://localhost:8080/",
     "height": 274
    },
    "colab_type": "code",
    "id": "fQ62eYF3N6hc",
    "outputId": "17ae8004-7f95-475c-d78c-3b32e3494411"
   },
   "outputs": [
    {
     "name": "stdout",
     "output_type": "stream",
     "text": [
      "(590540, 394)\n"
     ]
    },
    {
     "data": {
      "text/html": [
       "<div>\n",
       "<style scoped>\n",
       "    .dataframe tbody tr th:only-of-type {\n",
       "        vertical-align: middle;\n",
       "    }\n",
       "\n",
       "    .dataframe tbody tr th {\n",
       "        vertical-align: top;\n",
       "    }\n",
       "\n",
       "    .dataframe thead th {\n",
       "        text-align: right;\n",
       "    }\n",
       "</style>\n",
       "<table border=\"1\" class=\"dataframe\">\n",
       "  <thead>\n",
       "    <tr style=\"text-align: right;\">\n",
       "      <th></th>\n",
       "      <th>TransactionID</th>\n",
       "      <th>isFraud</th>\n",
       "      <th>TransactionDT</th>\n",
       "      <th>TransactionAmt</th>\n",
       "      <th>ProductCD</th>\n",
       "      <th>card1</th>\n",
       "      <th>card2</th>\n",
       "      <th>card3</th>\n",
       "      <th>card4</th>\n",
       "      <th>card5</th>\n",
       "      <th>...</th>\n",
       "      <th>V330</th>\n",
       "      <th>V331</th>\n",
       "      <th>V332</th>\n",
       "      <th>V333</th>\n",
       "      <th>V334</th>\n",
       "      <th>V335</th>\n",
       "      <th>V336</th>\n",
       "      <th>V337</th>\n",
       "      <th>V338</th>\n",
       "      <th>V339</th>\n",
       "    </tr>\n",
       "  </thead>\n",
       "  <tbody>\n",
       "    <tr>\n",
       "      <th>0</th>\n",
       "      <td>2987000</td>\n",
       "      <td>0</td>\n",
       "      <td>86400</td>\n",
       "      <td>68.5</td>\n",
       "      <td>W</td>\n",
       "      <td>13926</td>\n",
       "      <td>NaN</td>\n",
       "      <td>150.0</td>\n",
       "      <td>discover</td>\n",
       "      <td>142.0</td>\n",
       "      <td>...</td>\n",
       "      <td>NaN</td>\n",
       "      <td>NaN</td>\n",
       "      <td>NaN</td>\n",
       "      <td>NaN</td>\n",
       "      <td>NaN</td>\n",
       "      <td>NaN</td>\n",
       "      <td>NaN</td>\n",
       "      <td>NaN</td>\n",
       "      <td>NaN</td>\n",
       "      <td>NaN</td>\n",
       "    </tr>\n",
       "    <tr>\n",
       "      <th>1</th>\n",
       "      <td>2987001</td>\n",
       "      <td>0</td>\n",
       "      <td>86401</td>\n",
       "      <td>29.0</td>\n",
       "      <td>W</td>\n",
       "      <td>2755</td>\n",
       "      <td>404.0</td>\n",
       "      <td>150.0</td>\n",
       "      <td>mastercard</td>\n",
       "      <td>102.0</td>\n",
       "      <td>...</td>\n",
       "      <td>NaN</td>\n",
       "      <td>NaN</td>\n",
       "      <td>NaN</td>\n",
       "      <td>NaN</td>\n",
       "      <td>NaN</td>\n",
       "      <td>NaN</td>\n",
       "      <td>NaN</td>\n",
       "      <td>NaN</td>\n",
       "      <td>NaN</td>\n",
       "      <td>NaN</td>\n",
       "    </tr>\n",
       "    <tr>\n",
       "      <th>2</th>\n",
       "      <td>2987002</td>\n",
       "      <td>0</td>\n",
       "      <td>86469</td>\n",
       "      <td>59.0</td>\n",
       "      <td>W</td>\n",
       "      <td>4663</td>\n",
       "      <td>490.0</td>\n",
       "      <td>150.0</td>\n",
       "      <td>visa</td>\n",
       "      <td>166.0</td>\n",
       "      <td>...</td>\n",
       "      <td>NaN</td>\n",
       "      <td>NaN</td>\n",
       "      <td>NaN</td>\n",
       "      <td>NaN</td>\n",
       "      <td>NaN</td>\n",
       "      <td>NaN</td>\n",
       "      <td>NaN</td>\n",
       "      <td>NaN</td>\n",
       "      <td>NaN</td>\n",
       "      <td>NaN</td>\n",
       "    </tr>\n",
       "    <tr>\n",
       "      <th>3</th>\n",
       "      <td>2987003</td>\n",
       "      <td>0</td>\n",
       "      <td>86499</td>\n",
       "      <td>50.0</td>\n",
       "      <td>W</td>\n",
       "      <td>18132</td>\n",
       "      <td>567.0</td>\n",
       "      <td>150.0</td>\n",
       "      <td>mastercard</td>\n",
       "      <td>117.0</td>\n",
       "      <td>...</td>\n",
       "      <td>NaN</td>\n",
       "      <td>NaN</td>\n",
       "      <td>NaN</td>\n",
       "      <td>NaN</td>\n",
       "      <td>NaN</td>\n",
       "      <td>NaN</td>\n",
       "      <td>NaN</td>\n",
       "      <td>NaN</td>\n",
       "      <td>NaN</td>\n",
       "      <td>NaN</td>\n",
       "    </tr>\n",
       "    <tr>\n",
       "      <th>4</th>\n",
       "      <td>2987004</td>\n",
       "      <td>0</td>\n",
       "      <td>86506</td>\n",
       "      <td>50.0</td>\n",
       "      <td>H</td>\n",
       "      <td>4497</td>\n",
       "      <td>514.0</td>\n",
       "      <td>150.0</td>\n",
       "      <td>mastercard</td>\n",
       "      <td>102.0</td>\n",
       "      <td>...</td>\n",
       "      <td>0.0</td>\n",
       "      <td>0.0</td>\n",
       "      <td>0.0</td>\n",
       "      <td>0.0</td>\n",
       "      <td>0.0</td>\n",
       "      <td>0.0</td>\n",
       "      <td>0.0</td>\n",
       "      <td>0.0</td>\n",
       "      <td>0.0</td>\n",
       "      <td>0.0</td>\n",
       "    </tr>\n",
       "  </tbody>\n",
       "</table>\n",
       "<p>5 rows × 394 columns</p>\n",
       "</div>"
      ],
      "text/plain": [
       "   TransactionID  isFraud  TransactionDT  TransactionAmt ProductCD  card1  \\\n",
       "0        2987000        0          86400            68.5         W  13926   \n",
       "1        2987001        0          86401            29.0         W   2755   \n",
       "2        2987002        0          86469            59.0         W   4663   \n",
       "3        2987003        0          86499            50.0         W  18132   \n",
       "4        2987004        0          86506            50.0         H   4497   \n",
       "\n",
       "   card2  card3       card4  card5  ... V330  V331  V332  V333  V334 V335  \\\n",
       "0    NaN  150.0    discover  142.0  ...  NaN   NaN   NaN   NaN   NaN  NaN   \n",
       "1  404.0  150.0  mastercard  102.0  ...  NaN   NaN   NaN   NaN   NaN  NaN   \n",
       "2  490.0  150.0        visa  166.0  ...  NaN   NaN   NaN   NaN   NaN  NaN   \n",
       "3  567.0  150.0  mastercard  117.0  ...  NaN   NaN   NaN   NaN   NaN  NaN   \n",
       "4  514.0  150.0  mastercard  102.0  ...  0.0   0.0   0.0   0.0   0.0  0.0   \n",
       "\n",
       "  V336  V337  V338  V339  \n",
       "0  NaN   NaN   NaN   NaN  \n",
       "1  NaN   NaN   NaN   NaN  \n",
       "2  NaN   NaN   NaN   NaN  \n",
       "3  NaN   NaN   NaN   NaN  \n",
       "4  0.0   0.0   0.0   0.0  \n",
       "\n",
       "[5 rows x 394 columns]"
      ]
     },
     "execution_count": 5,
     "metadata": {},
     "output_type": "execute_result"
    }
   ],
   "source": [
    "print(train_transaction.shape)\n",
    "train_transaction.head()"
   ]
  },
  {
   "cell_type": "markdown",
   "metadata": {
    "colab_type": "text",
    "id": "4Q7LjQjWimb4"
   },
   "source": [
    "Nous effectuons la jointure des deux tables sur la variable commune : TransactionID"
   ]
  },
  {
   "cell_type": "code",
   "execution_count": 6,
   "metadata": {
    "colab": {
     "base_uri": "https://localhost:8080/",
     "height": 54
    },
    "colab_type": "code",
    "id": "KRfkYFqSN6hf",
    "outputId": "28a4a567-a8db-43d4-d6cf-f13d4a2d39f4"
   },
   "outputs": [
    {
     "name": "stdout",
     "output_type": "stream",
     "text": [
      "CPU times: user 6.91 s, sys: 7.3 s, total: 14.2 s\n",
      "Wall time: 16.4 s\n"
     ]
    }
   ],
   "source": [
    "%%time\n",
    "#Jointure\n",
    "train_dataset = pd.merge(train_transaction, train_identity, on='TransactionID', how='left')\n",
    "\n",
    "#Suppression base de données inutiles\n",
    "del train_transaction, train_identity"
   ]
  },
  {
   "cell_type": "code",
   "execution_count": 7,
   "metadata": {
    "colab": {
     "base_uri": "https://localhost:8080/",
     "height": 309
    },
    "colab_type": "code",
    "id": "24c2McB_imcF",
    "outputId": "2e413e0e-f57b-4e11-cfbf-3e688af9a137"
   },
   "outputs": [
    {
     "name": "stdout",
     "output_type": "stream",
     "text": [
      "(590540, 434)\n"
     ]
    },
    {
     "data": {
      "text/html": [
       "<div>\n",
       "<style scoped>\n",
       "    .dataframe tbody tr th:only-of-type {\n",
       "        vertical-align: middle;\n",
       "    }\n",
       "\n",
       "    .dataframe tbody tr th {\n",
       "        vertical-align: top;\n",
       "    }\n",
       "\n",
       "    .dataframe thead th {\n",
       "        text-align: right;\n",
       "    }\n",
       "</style>\n",
       "<table border=\"1\" class=\"dataframe\">\n",
       "  <thead>\n",
       "    <tr style=\"text-align: right;\">\n",
       "      <th></th>\n",
       "      <th>TransactionID</th>\n",
       "      <th>isFraud</th>\n",
       "      <th>TransactionDT</th>\n",
       "      <th>TransactionAmt</th>\n",
       "      <th>ProductCD</th>\n",
       "      <th>card1</th>\n",
       "      <th>card2</th>\n",
       "      <th>card3</th>\n",
       "      <th>card4</th>\n",
       "      <th>card5</th>\n",
       "      <th>...</th>\n",
       "      <th>id_31</th>\n",
       "      <th>id_32</th>\n",
       "      <th>id_33</th>\n",
       "      <th>id_34</th>\n",
       "      <th>id_35</th>\n",
       "      <th>id_36</th>\n",
       "      <th>id_37</th>\n",
       "      <th>id_38</th>\n",
       "      <th>DeviceType</th>\n",
       "      <th>DeviceInfo</th>\n",
       "    </tr>\n",
       "  </thead>\n",
       "  <tbody>\n",
       "    <tr>\n",
       "      <th>0</th>\n",
       "      <td>2987000</td>\n",
       "      <td>0</td>\n",
       "      <td>86400</td>\n",
       "      <td>68.5</td>\n",
       "      <td>W</td>\n",
       "      <td>13926</td>\n",
       "      <td>NaN</td>\n",
       "      <td>150.0</td>\n",
       "      <td>discover</td>\n",
       "      <td>142.0</td>\n",
       "      <td>...</td>\n",
       "      <td>NaN</td>\n",
       "      <td>NaN</td>\n",
       "      <td>NaN</td>\n",
       "      <td>NaN</td>\n",
       "      <td>NaN</td>\n",
       "      <td>NaN</td>\n",
       "      <td>NaN</td>\n",
       "      <td>NaN</td>\n",
       "      <td>NaN</td>\n",
       "      <td>NaN</td>\n",
       "    </tr>\n",
       "    <tr>\n",
       "      <th>1</th>\n",
       "      <td>2987001</td>\n",
       "      <td>0</td>\n",
       "      <td>86401</td>\n",
       "      <td>29.0</td>\n",
       "      <td>W</td>\n",
       "      <td>2755</td>\n",
       "      <td>404.0</td>\n",
       "      <td>150.0</td>\n",
       "      <td>mastercard</td>\n",
       "      <td>102.0</td>\n",
       "      <td>...</td>\n",
       "      <td>NaN</td>\n",
       "      <td>NaN</td>\n",
       "      <td>NaN</td>\n",
       "      <td>NaN</td>\n",
       "      <td>NaN</td>\n",
       "      <td>NaN</td>\n",
       "      <td>NaN</td>\n",
       "      <td>NaN</td>\n",
       "      <td>NaN</td>\n",
       "      <td>NaN</td>\n",
       "    </tr>\n",
       "    <tr>\n",
       "      <th>2</th>\n",
       "      <td>2987002</td>\n",
       "      <td>0</td>\n",
       "      <td>86469</td>\n",
       "      <td>59.0</td>\n",
       "      <td>W</td>\n",
       "      <td>4663</td>\n",
       "      <td>490.0</td>\n",
       "      <td>150.0</td>\n",
       "      <td>visa</td>\n",
       "      <td>166.0</td>\n",
       "      <td>...</td>\n",
       "      <td>NaN</td>\n",
       "      <td>NaN</td>\n",
       "      <td>NaN</td>\n",
       "      <td>NaN</td>\n",
       "      <td>NaN</td>\n",
       "      <td>NaN</td>\n",
       "      <td>NaN</td>\n",
       "      <td>NaN</td>\n",
       "      <td>NaN</td>\n",
       "      <td>NaN</td>\n",
       "    </tr>\n",
       "    <tr>\n",
       "      <th>3</th>\n",
       "      <td>2987003</td>\n",
       "      <td>0</td>\n",
       "      <td>86499</td>\n",
       "      <td>50.0</td>\n",
       "      <td>W</td>\n",
       "      <td>18132</td>\n",
       "      <td>567.0</td>\n",
       "      <td>150.0</td>\n",
       "      <td>mastercard</td>\n",
       "      <td>117.0</td>\n",
       "      <td>...</td>\n",
       "      <td>NaN</td>\n",
       "      <td>NaN</td>\n",
       "      <td>NaN</td>\n",
       "      <td>NaN</td>\n",
       "      <td>NaN</td>\n",
       "      <td>NaN</td>\n",
       "      <td>NaN</td>\n",
       "      <td>NaN</td>\n",
       "      <td>NaN</td>\n",
       "      <td>NaN</td>\n",
       "    </tr>\n",
       "    <tr>\n",
       "      <th>4</th>\n",
       "      <td>2987004</td>\n",
       "      <td>0</td>\n",
       "      <td>86506</td>\n",
       "      <td>50.0</td>\n",
       "      <td>H</td>\n",
       "      <td>4497</td>\n",
       "      <td>514.0</td>\n",
       "      <td>150.0</td>\n",
       "      <td>mastercard</td>\n",
       "      <td>102.0</td>\n",
       "      <td>...</td>\n",
       "      <td>samsung browser 6.2</td>\n",
       "      <td>32.0</td>\n",
       "      <td>2220x1080</td>\n",
       "      <td>match_status:2</td>\n",
       "      <td>T</td>\n",
       "      <td>F</td>\n",
       "      <td>T</td>\n",
       "      <td>T</td>\n",
       "      <td>mobile</td>\n",
       "      <td>SAMSUNG SM-G892A Build/NRD90M</td>\n",
       "    </tr>\n",
       "  </tbody>\n",
       "</table>\n",
       "<p>5 rows × 434 columns</p>\n",
       "</div>"
      ],
      "text/plain": [
       "   TransactionID  isFraud  TransactionDT  TransactionAmt ProductCD  card1  \\\n",
       "0        2987000        0          86400            68.5         W  13926   \n",
       "1        2987001        0          86401            29.0         W   2755   \n",
       "2        2987002        0          86469            59.0         W   4663   \n",
       "3        2987003        0          86499            50.0         W  18132   \n",
       "4        2987004        0          86506            50.0         H   4497   \n",
       "\n",
       "   card2  card3       card4  card5  ...                id_31  id_32  \\\n",
       "0    NaN  150.0    discover  142.0  ...                  NaN    NaN   \n",
       "1  404.0  150.0  mastercard  102.0  ...                  NaN    NaN   \n",
       "2  490.0  150.0        visa  166.0  ...                  NaN    NaN   \n",
       "3  567.0  150.0  mastercard  117.0  ...                  NaN    NaN   \n",
       "4  514.0  150.0  mastercard  102.0  ...  samsung browser 6.2   32.0   \n",
       "\n",
       "       id_33           id_34  id_35 id_36 id_37  id_38  DeviceType  \\\n",
       "0        NaN             NaN    NaN   NaN   NaN    NaN         NaN   \n",
       "1        NaN             NaN    NaN   NaN   NaN    NaN         NaN   \n",
       "2        NaN             NaN    NaN   NaN   NaN    NaN         NaN   \n",
       "3        NaN             NaN    NaN   NaN   NaN    NaN         NaN   \n",
       "4  2220x1080  match_status:2      T     F     T      T      mobile   \n",
       "\n",
       "                      DeviceInfo  \n",
       "0                            NaN  \n",
       "1                            NaN  \n",
       "2                            NaN  \n",
       "3                            NaN  \n",
       "4  SAMSUNG SM-G892A Build/NRD90M  \n",
       "\n",
       "[5 rows x 434 columns]"
      ]
     },
     "execution_count": 7,
     "metadata": {},
     "output_type": "execute_result"
    }
   ],
   "source": [
    "print(train_dataset.shape)\n",
    "train_dataset.head()"
   ]
  },
  {
   "cell_type": "markdown",
   "metadata": {
    "colab_type": "text",
    "id": "ltjk2cfximcU"
   },
   "source": [
    "### Problème de classification binaire déséquilibrée"
   ]
  },
  {
   "cell_type": "code",
   "execution_count": 8,
   "metadata": {
    "colab": {
     "base_uri": "https://localhost:8080/",
     "height": 300
    },
    "colab_type": "code",
    "id": "ttmW5Tb3imcW",
    "outputId": "ec6a2421-1f2d-4446-d7a0-8f0cec367a85"
   },
   "outputs": [
    {
     "data": {
      "text/plain": [
       "Text(0.5, 1.0, \"Répartition de la variable 'isFraud'\")"
      ]
     },
     "execution_count": 8,
     "metadata": {},
     "output_type": "execute_result"
    },
    {
     "data": {
      "image/png": "[encoded data removed]",
      "text/plain": [
       "<Figure size 432x288 with 1 Axes>"
      ]
     },
     "metadata": {
      "needs_background": "light"
     },
     "output_type": "display_data"
    }
   ],
   "source": [
    "x = train_dataset['isFraud'].value_counts().values\n",
    "sns.barplot([0,1], x)\n",
    "plt.title(\"Répartition de la variable 'isFraud'\")"
   ]
  },
  {
   "cell_type": "code",
   "execution_count": 9,
   "metadata": {
    "colab": {
     "base_uri": "https://localhost:8080/",
     "height": 36
    },
    "colab_type": "code",
    "id": "0jiXhUGtimcd",
    "outputId": "b8b0fddb-d42a-42fe-9ca6-9c807df4fd02"
   },
   "outputs": [
    {
     "name": "stdout",
     "output_type": "stream",
     "text": [
      "La part de transactions frauduleuses dans la base de données d'entrainement est de  3.5 %\n"
     ]
    }
   ],
   "source": [
    "print(\"La part de transactions frauduleuses dans la base de données d'entrainement est de \",round(len(train_dataset['isFraud'][train_dataset['isFraud']==1])/ len(train_dataset['isFraud'])*100,2),'%')"
   ]
  },
  {
   "cell_type": "markdown",
   "metadata": {
    "colab_type": "text",
    "id": "HhfBkYS3imcn"
   },
   "source": [
    "Ainsi, nous constatons que la part de données frauduleuses est très faible. Nous sommes face à un problème de classes déséquilibrées. En effet, l'événement que nous souhaitons prédire est très peu observé. Il existe donc un risque de créer des modèles qui prédisent toujours la classe majoritaire (ie la transaction est non frauduleuse). Nous devons donc tenir compte de cette problèmatique dans l'implémentation des algorithmes. De plus, les outils choisis pour mesurer l'efficacité des modèles et les comparer entre eux doivent également tenir compte de cet aspect. Le critère habituellement choisi : la précision (c'est-à-dire le taux de prédiction correctement identifiées) peut nous donner une vision biaisée. La part de transactions frauduleuses étant très faible, nous pouvons obtenir une précision très élevée en classant la grande majorité des transactions comme non frauduleuses. Cependant, l'objectif est au contraire de réussir à prédire les fraudes. Il est donc nécessaire d'introduire d'autres moyens de mesure de l'efficacité. Nous avons choisi le critère de l'aire sous la courbe ROC. Nous nous baserons sur celui-ci pour comparer les différents modèles créés par la suite. \n"
   ]
  },
  {
   "cell_type": "markdown",
   "metadata": {
    "colab_type": "text",
    "id": "XTuy0zAIimcr"
   },
   "source": [
    "#### Rappel sur la courbe ROC et l'aire sous la courbe "
   ]
  },
  {
   "cell_type": "markdown",
   "metadata": {
    "colab_type": "text",
    "id": "mS2IdQ7Ximct"
   },
   "source": [
    "L’objectif de la courbe ROC est de faire varier le seuil (fixé à 0.5 en général) qui permet d’affecter à chaque observation une prédiction (classe négative ou positive) entre 0 et 1. Pour chaque valeur du seuil on calcule la sensibilité et la spécificité avec :\n",
    "\n",
    "- La sensibilité : représente parmi toutes les étiquettes positives la part des étiquettes correctement identifiées, ie $$Sensibilité = \\frac{VP}{VP+ FN}$$ \n",
    "- $$ 1−Spécificité =\\frac{FP}{FP+VN} $$\n",
    "\n",
    "(où VP = Vrai Positif = label ‘1’ correctement prédit,\n",
    "    VN = Vrai Négatif = label ‘0’ correctement prédit,\n",
    "    FP = Faux Positif = label ‘1’ mal prédit,\n",
    "    FN = Faux Négatif = label ‘0’ mal prédit)\n",
    "    \n",
    "Pour un modèle parfait, on obtient des valeurs de sensibilité et spécificité égales à 1. La courbe ROC permet de voir comment la spécificité et la sensibilité varient en fonction du seuil. Elle représente la sensibilité en fonction de 1 – la spécificité, c’est-à-dire la proportion de vrais positifs en fonction de la proportion des faux positifs pour différentes valeurs du seuil. Pour obtenir le meilleur seuil, l’idéal serait d’obtenir une sensibilité et une spécificité égales à 1 (c’est-à-dire un taux de faux positifs = 0 et un taux de vrais positifs = 1). Ce n’est généralement pas possible et il faut tenter d’obtenir les plus fortes valeurs pour ces deux paramètres, sachant qu’ils varient en sens inverse.\n",
    "\n",
    "\n",
    "L'Aire sous la courbe ROC (AUC : Area Under the Curve) fournit une mesure agrégée des performances pour tous les seuils de classification possibles. Les valeurs d'AUC sont comprises dans une plage de 0 à 1. Un modèle dont 100 % des prédictions sont erronées a une AUC de 0. Si toutes ses prédictions sont correctes, l’AUC est de 1. L'objectif est donc d'obtenir une AUC la plus élevée possible."
   ]
  },
  {
   "cell_type": "markdown",
   "metadata": {
    "colab_type": "text",
    "id": "GVD9TOVdN6hj"
   },
   "source": [
    "### Base de données test"
   ]
  },
  {
   "cell_type": "markdown",
   "metadata": {
    "colab_type": "text",
    "id": "mwJpksInimcx"
   },
   "source": [
    "Les données étant issues d'une ancienne compétition proposée par Kaggle, la base de données de test ne contient pas la variable \"isFraud\".\n",
    "Afin de connaître le score réalisé il faut envoyer un fichier au même format que \"sample_submission\" "
   ]
  },
  {
   "cell_type": "code",
   "execution_count": 10,
   "metadata": {
    "colab": {
     "base_uri": "https://localhost:8080/",
     "height": 54
    },
    "colab_type": "code",
    "id": "aWS816fUN6hl",
    "outputId": "f2d53b6a-744a-4bac-cd23-64937e51094b"
   },
   "outputs": [
    {
     "name": "stdout",
     "output_type": "stream",
     "text": [
      "CPU times: user 18.9 s, sys: 3.68 s, total: 22.5 s\n",
      "Wall time: 22.2 s\n"
     ]
    }
   ],
   "source": [
    "%%time\n",
    "test_identity=pd.read_csv('datasets/test_identity.csv')\n",
    "test_transaction=pd.read_csv('datasets/test_transaction.csv')"
   ]
  },
  {
   "cell_type": "code",
   "execution_count": 11,
   "metadata": {
    "colab": {
     "base_uri": "https://localhost:8080/",
     "height": 488
    },
    "colab_type": "code",
    "id": "-wRCbLkYElsh",
    "outputId": "94defeee-0869-4b5c-d360-2ef37d678819"
   },
   "outputs": [
    {
     "name": "stdout",
     "output_type": "stream",
     "text": [
      "(141907, 41)\n"
     ]
    },
    {
     "data": {
      "text/html": [
       "<div>\n",
       "<style scoped>\n",
       "    .dataframe tbody tr th:only-of-type {\n",
       "        vertical-align: middle;\n",
       "    }\n",
       "\n",
       "    .dataframe tbody tr th {\n",
       "        vertical-align: top;\n",
       "    }\n",
       "\n",
       "    .dataframe thead th {\n",
       "        text-align: right;\n",
       "    }\n",
       "</style>\n",
       "<table border=\"1\" class=\"dataframe\">\n",
       "  <thead>\n",
       "    <tr style=\"text-align: right;\">\n",
       "      <th></th>\n",
       "      <th>TransactionID</th>\n",
       "      <th>id_01</th>\n",
       "      <th>id_02</th>\n",
       "      <th>id_03</th>\n",
       "      <th>id_04</th>\n",
       "      <th>id_05</th>\n",
       "      <th>id_06</th>\n",
       "      <th>id_07</th>\n",
       "      <th>id_08</th>\n",
       "      <th>id_09</th>\n",
       "      <th>...</th>\n",
       "      <th>id_31</th>\n",
       "      <th>id_32</th>\n",
       "      <th>id_33</th>\n",
       "      <th>id_34</th>\n",
       "      <th>id_35</th>\n",
       "      <th>id_36</th>\n",
       "      <th>id_37</th>\n",
       "      <th>id_38</th>\n",
       "      <th>DeviceType</th>\n",
       "      <th>DeviceInfo</th>\n",
       "    </tr>\n",
       "  </thead>\n",
       "  <tbody>\n",
       "    <tr>\n",
       "      <th>0</th>\n",
       "      <td>3663586</td>\n",
       "      <td>-45.0</td>\n",
       "      <td>280290.0</td>\n",
       "      <td>NaN</td>\n",
       "      <td>NaN</td>\n",
       "      <td>0.0</td>\n",
       "      <td>0.0</td>\n",
       "      <td>NaN</td>\n",
       "      <td>NaN</td>\n",
       "      <td>NaN</td>\n",
       "      <td>...</td>\n",
       "      <td>chrome 67.0 for android</td>\n",
       "      <td>NaN</td>\n",
       "      <td>NaN</td>\n",
       "      <td>NaN</td>\n",
       "      <td>F</td>\n",
       "      <td>F</td>\n",
       "      <td>T</td>\n",
       "      <td>F</td>\n",
       "      <td>mobile</td>\n",
       "      <td>MYA-L13 Build/HUAWEIMYA-L13</td>\n",
       "    </tr>\n",
       "    <tr>\n",
       "      <th>1</th>\n",
       "      <td>3663588</td>\n",
       "      <td>0.0</td>\n",
       "      <td>3579.0</td>\n",
       "      <td>0.0</td>\n",
       "      <td>0.0</td>\n",
       "      <td>0.0</td>\n",
       "      <td>0.0</td>\n",
       "      <td>NaN</td>\n",
       "      <td>NaN</td>\n",
       "      <td>0.0</td>\n",
       "      <td>...</td>\n",
       "      <td>chrome 67.0 for android</td>\n",
       "      <td>24.0</td>\n",
       "      <td>1280x720</td>\n",
       "      <td>match_status:2</td>\n",
       "      <td>T</td>\n",
       "      <td>F</td>\n",
       "      <td>T</td>\n",
       "      <td>T</td>\n",
       "      <td>mobile</td>\n",
       "      <td>LGLS676 Build/MXB48T</td>\n",
       "    </tr>\n",
       "    <tr>\n",
       "      <th>2</th>\n",
       "      <td>3663597</td>\n",
       "      <td>-5.0</td>\n",
       "      <td>185210.0</td>\n",
       "      <td>NaN</td>\n",
       "      <td>NaN</td>\n",
       "      <td>1.0</td>\n",
       "      <td>0.0</td>\n",
       "      <td>NaN</td>\n",
       "      <td>NaN</td>\n",
       "      <td>NaN</td>\n",
       "      <td>...</td>\n",
       "      <td>ie 11.0 for tablet</td>\n",
       "      <td>NaN</td>\n",
       "      <td>NaN</td>\n",
       "      <td>NaN</td>\n",
       "      <td>F</td>\n",
       "      <td>T</td>\n",
       "      <td>T</td>\n",
       "      <td>F</td>\n",
       "      <td>desktop</td>\n",
       "      <td>Trident/7.0</td>\n",
       "    </tr>\n",
       "    <tr>\n",
       "      <th>3</th>\n",
       "      <td>3663601</td>\n",
       "      <td>-45.0</td>\n",
       "      <td>252944.0</td>\n",
       "      <td>0.0</td>\n",
       "      <td>0.0</td>\n",
       "      <td>0.0</td>\n",
       "      <td>0.0</td>\n",
       "      <td>NaN</td>\n",
       "      <td>NaN</td>\n",
       "      <td>0.0</td>\n",
       "      <td>...</td>\n",
       "      <td>chrome 67.0 for android</td>\n",
       "      <td>NaN</td>\n",
       "      <td>NaN</td>\n",
       "      <td>NaN</td>\n",
       "      <td>F</td>\n",
       "      <td>F</td>\n",
       "      <td>T</td>\n",
       "      <td>F</td>\n",
       "      <td>mobile</td>\n",
       "      <td>MYA-L13 Build/HUAWEIMYA-L13</td>\n",
       "    </tr>\n",
       "    <tr>\n",
       "      <th>4</th>\n",
       "      <td>3663602</td>\n",
       "      <td>-95.0</td>\n",
       "      <td>328680.0</td>\n",
       "      <td>NaN</td>\n",
       "      <td>NaN</td>\n",
       "      <td>7.0</td>\n",
       "      <td>-33.0</td>\n",
       "      <td>NaN</td>\n",
       "      <td>NaN</td>\n",
       "      <td>NaN</td>\n",
       "      <td>...</td>\n",
       "      <td>chrome 67.0 for android</td>\n",
       "      <td>NaN</td>\n",
       "      <td>NaN</td>\n",
       "      <td>NaN</td>\n",
       "      <td>F</td>\n",
       "      <td>F</td>\n",
       "      <td>T</td>\n",
       "      <td>F</td>\n",
       "      <td>mobile</td>\n",
       "      <td>SM-G9650 Build/R16NW</td>\n",
       "    </tr>\n",
       "  </tbody>\n",
       "</table>\n",
       "<p>5 rows × 41 columns</p>\n",
       "</div>"
      ],
      "text/plain": [
       "   TransactionID  id_01     id_02  id_03  id_04  id_05  id_06  id_07  id_08  \\\n",
       "0        3663586  -45.0  280290.0    NaN    NaN    0.0    0.0    NaN    NaN   \n",
       "1        3663588    0.0    3579.0    0.0    0.0    0.0    0.0    NaN    NaN   \n",
       "2        3663597   -5.0  185210.0    NaN    NaN    1.0    0.0    NaN    NaN   \n",
       "3        3663601  -45.0  252944.0    0.0    0.0    0.0    0.0    NaN    NaN   \n",
       "4        3663602  -95.0  328680.0    NaN    NaN    7.0  -33.0    NaN    NaN   \n",
       "\n",
       "   id_09  ...                    id_31  id_32     id_33           id_34  \\\n",
       "0    NaN  ...  chrome 67.0 for android    NaN       NaN             NaN   \n",
       "1    0.0  ...  chrome 67.0 for android   24.0  1280x720  match_status:2   \n",
       "2    NaN  ...       ie 11.0 for tablet    NaN       NaN             NaN   \n",
       "3    0.0  ...  chrome 67.0 for android    NaN       NaN             NaN   \n",
       "4    NaN  ...  chrome 67.0 for android    NaN       NaN             NaN   \n",
       "\n",
       "   id_35 id_36 id_37  id_38  DeviceType                   DeviceInfo  \n",
       "0      F     F     T      F      mobile  MYA-L13 Build/HUAWEIMYA-L13  \n",
       "1      T     F     T      T      mobile         LGLS676 Build/MXB48T  \n",
       "2      F     T     T      F     desktop                  Trident/7.0  \n",
       "3      F     F     T      F      mobile  MYA-L13 Build/HUAWEIMYA-L13  \n",
       "4      F     F     T      F      mobile         SM-G9650 Build/R16NW  \n",
       "\n",
       "[5 rows x 41 columns]"
      ]
     },
     "execution_count": 11,
     "metadata": {},
     "output_type": "execute_result"
    }
   ],
   "source": [
    "print(test_identity.shape)\n",
    "test_identity.head()"
   ]
  },
  {
   "cell_type": "code",
   "execution_count": 12,
   "metadata": {
    "colab": {
     "base_uri": "https://localhost:8080/",
     "height": 274
    },
    "colab_type": "code",
    "id": "YugTsr7WN6hn",
    "outputId": "4c090d91-ae21-4e82-97b8-96e83d248a59"
   },
   "outputs": [
    {
     "name": "stdout",
     "output_type": "stream",
     "text": [
      "(506691, 393)\n"
     ]
    },
    {
     "data": {
      "text/html": [
       "<div>\n",
       "<style scoped>\n",
       "    .dataframe tbody tr th:only-of-type {\n",
       "        vertical-align: middle;\n",
       "    }\n",
       "\n",
       "    .dataframe tbody tr th {\n",
       "        vertical-align: top;\n",
       "    }\n",
       "\n",
       "    .dataframe thead th {\n",
       "        text-align: right;\n",
       "    }\n",
       "</style>\n",
       "<table border=\"1\" class=\"dataframe\">\n",
       "  <thead>\n",
       "    <tr style=\"text-align: right;\">\n",
       "      <th></th>\n",
       "      <th>TransactionID</th>\n",
       "      <th>TransactionDT</th>\n",
       "      <th>TransactionAmt</th>\n",
       "      <th>ProductCD</th>\n",
       "      <th>card1</th>\n",
       "      <th>card2</th>\n",
       "      <th>card3</th>\n",
       "      <th>card4</th>\n",
       "      <th>card5</th>\n",
       "      <th>card6</th>\n",
       "      <th>...</th>\n",
       "      <th>V330</th>\n",
       "      <th>V331</th>\n",
       "      <th>V332</th>\n",
       "      <th>V333</th>\n",
       "      <th>V334</th>\n",
       "      <th>V335</th>\n",
       "      <th>V336</th>\n",
       "      <th>V337</th>\n",
       "      <th>V338</th>\n",
       "      <th>V339</th>\n",
       "    </tr>\n",
       "  </thead>\n",
       "  <tbody>\n",
       "    <tr>\n",
       "      <th>0</th>\n",
       "      <td>3663549</td>\n",
       "      <td>18403224</td>\n",
       "      <td>31.95</td>\n",
       "      <td>W</td>\n",
       "      <td>10409</td>\n",
       "      <td>111.0</td>\n",
       "      <td>150.0</td>\n",
       "      <td>visa</td>\n",
       "      <td>226.0</td>\n",
       "      <td>debit</td>\n",
       "      <td>...</td>\n",
       "      <td>NaN</td>\n",
       "      <td>NaN</td>\n",
       "      <td>NaN</td>\n",
       "      <td>NaN</td>\n",
       "      <td>NaN</td>\n",
       "      <td>NaN</td>\n",
       "      <td>NaN</td>\n",
       "      <td>NaN</td>\n",
       "      <td>NaN</td>\n",
       "      <td>NaN</td>\n",
       "    </tr>\n",
       "    <tr>\n",
       "      <th>1</th>\n",
       "      <td>3663550</td>\n",
       "      <td>18403263</td>\n",
       "      <td>49.00</td>\n",
       "      <td>W</td>\n",
       "      <td>4272</td>\n",
       "      <td>111.0</td>\n",
       "      <td>150.0</td>\n",
       "      <td>visa</td>\n",
       "      <td>226.0</td>\n",
       "      <td>debit</td>\n",
       "      <td>...</td>\n",
       "      <td>NaN</td>\n",
       "      <td>NaN</td>\n",
       "      <td>NaN</td>\n",
       "      <td>NaN</td>\n",
       "      <td>NaN</td>\n",
       "      <td>NaN</td>\n",
       "      <td>NaN</td>\n",
       "      <td>NaN</td>\n",
       "      <td>NaN</td>\n",
       "      <td>NaN</td>\n",
       "    </tr>\n",
       "    <tr>\n",
       "      <th>2</th>\n",
       "      <td>3663551</td>\n",
       "      <td>18403310</td>\n",
       "      <td>171.00</td>\n",
       "      <td>W</td>\n",
       "      <td>4476</td>\n",
       "      <td>574.0</td>\n",
       "      <td>150.0</td>\n",
       "      <td>visa</td>\n",
       "      <td>226.0</td>\n",
       "      <td>debit</td>\n",
       "      <td>...</td>\n",
       "      <td>NaN</td>\n",
       "      <td>NaN</td>\n",
       "      <td>NaN</td>\n",
       "      <td>NaN</td>\n",
       "      <td>NaN</td>\n",
       "      <td>NaN</td>\n",
       "      <td>NaN</td>\n",
       "      <td>NaN</td>\n",
       "      <td>NaN</td>\n",
       "      <td>NaN</td>\n",
       "    </tr>\n",
       "    <tr>\n",
       "      <th>3</th>\n",
       "      <td>3663552</td>\n",
       "      <td>18403310</td>\n",
       "      <td>284.95</td>\n",
       "      <td>W</td>\n",
       "      <td>10989</td>\n",
       "      <td>360.0</td>\n",
       "      <td>150.0</td>\n",
       "      <td>visa</td>\n",
       "      <td>166.0</td>\n",
       "      <td>debit</td>\n",
       "      <td>...</td>\n",
       "      <td>NaN</td>\n",
       "      <td>NaN</td>\n",
       "      <td>NaN</td>\n",
       "      <td>NaN</td>\n",
       "      <td>NaN</td>\n",
       "      <td>NaN</td>\n",
       "      <td>NaN</td>\n",
       "      <td>NaN</td>\n",
       "      <td>NaN</td>\n",
       "      <td>NaN</td>\n",
       "    </tr>\n",
       "    <tr>\n",
       "      <th>4</th>\n",
       "      <td>3663553</td>\n",
       "      <td>18403317</td>\n",
       "      <td>67.95</td>\n",
       "      <td>W</td>\n",
       "      <td>18018</td>\n",
       "      <td>452.0</td>\n",
       "      <td>150.0</td>\n",
       "      <td>mastercard</td>\n",
       "      <td>117.0</td>\n",
       "      <td>debit</td>\n",
       "      <td>...</td>\n",
       "      <td>NaN</td>\n",
       "      <td>NaN</td>\n",
       "      <td>NaN</td>\n",
       "      <td>NaN</td>\n",
       "      <td>NaN</td>\n",
       "      <td>NaN</td>\n",
       "      <td>NaN</td>\n",
       "      <td>NaN</td>\n",
       "      <td>NaN</td>\n",
       "      <td>NaN</td>\n",
       "    </tr>\n",
       "  </tbody>\n",
       "</table>\n",
       "<p>5 rows × 393 columns</p>\n",
       "</div>"
      ],
      "text/plain": [
       "   TransactionID  TransactionDT  TransactionAmt ProductCD  card1  card2  \\\n",
       "0        3663549       18403224           31.95         W  10409  111.0   \n",
       "1        3663550       18403263           49.00         W   4272  111.0   \n",
       "2        3663551       18403310          171.00         W   4476  574.0   \n",
       "3        3663552       18403310          284.95         W  10989  360.0   \n",
       "4        3663553       18403317           67.95         W  18018  452.0   \n",
       "\n",
       "   card3       card4  card5  card6  ...  V330  V331  V332  V333 V334 V335  \\\n",
       "0  150.0        visa  226.0  debit  ...   NaN   NaN   NaN   NaN  NaN  NaN   \n",
       "1  150.0        visa  226.0  debit  ...   NaN   NaN   NaN   NaN  NaN  NaN   \n",
       "2  150.0        visa  226.0  debit  ...   NaN   NaN   NaN   NaN  NaN  NaN   \n",
       "3  150.0        visa  166.0  debit  ...   NaN   NaN   NaN   NaN  NaN  NaN   \n",
       "4  150.0  mastercard  117.0  debit  ...   NaN   NaN   NaN   NaN  NaN  NaN   \n",
       "\n",
       "   V336  V337  V338  V339  \n",
       "0   NaN   NaN   NaN   NaN  \n",
       "1   NaN   NaN   NaN   NaN  \n",
       "2   NaN   NaN   NaN   NaN  \n",
       "3   NaN   NaN   NaN   NaN  \n",
       "4   NaN   NaN   NaN   NaN  \n",
       "\n",
       "[5 rows x 393 columns]"
      ]
     },
     "execution_count": 12,
     "metadata": {},
     "output_type": "execute_result"
    }
   ],
   "source": [
    "print(test_transaction.shape)\n",
    "test_transaction.head()"
   ]
  },
  {
   "cell_type": "code",
   "execution_count": 13,
   "metadata": {
    "colab": {
     "base_uri": "https://localhost:8080/",
     "height": 73
    },
    "colab_type": "code",
    "id": "HLbkM3ERN6hp",
    "outputId": "16d440f6-d3fa-4c15-ac3f-caf79cf0f4b2"
   },
   "outputs": [
    {
     "name": "stdout",
     "output_type": "stream",
     "text": [
      "(506691, 433)\n",
      "CPU times: user 5.73 s, sys: 5.4 s, total: 11.1 s\n",
      "Wall time: 11.8 s\n"
     ]
    }
   ],
   "source": [
    "%%time\n",
    "#Jointure\n",
    "test_dataset = pd.merge(test_transaction, test_identity, on='TransactionID', how='left')\n",
    "print(test_dataset.shape)\n",
    "\n",
    "#Suppression base de données inutiles\n",
    "del test_transaction, test_identity"
   ]
  },
  {
   "cell_type": "code",
   "execution_count": 14,
   "metadata": {
    "colab": {
     "base_uri": "https://localhost:8080/",
     "height": 255
    },
    "colab_type": "code",
    "id": "fXuXN1TwN6hr",
    "outputId": "20976ce4-44d8-4e0f-8557-4283ede44162"
   },
   "outputs": [
    {
     "data": {
      "text/html": [
       "<div>\n",
       "<style scoped>\n",
       "    .dataframe tbody tr th:only-of-type {\n",
       "        vertical-align: middle;\n",
       "    }\n",
       "\n",
       "    .dataframe tbody tr th {\n",
       "        vertical-align: top;\n",
       "    }\n",
       "\n",
       "    .dataframe thead th {\n",
       "        text-align: right;\n",
       "    }\n",
       "</style>\n",
       "<table border=\"1\" class=\"dataframe\">\n",
       "  <thead>\n",
       "    <tr style=\"text-align: right;\">\n",
       "      <th></th>\n",
       "      <th>TransactionID</th>\n",
       "      <th>TransactionDT</th>\n",
       "      <th>TransactionAmt</th>\n",
       "      <th>ProductCD</th>\n",
       "      <th>card1</th>\n",
       "      <th>card2</th>\n",
       "      <th>card3</th>\n",
       "      <th>card4</th>\n",
       "      <th>card5</th>\n",
       "      <th>card6</th>\n",
       "      <th>...</th>\n",
       "      <th>id_31</th>\n",
       "      <th>id_32</th>\n",
       "      <th>id_33</th>\n",
       "      <th>id_34</th>\n",
       "      <th>id_35</th>\n",
       "      <th>id_36</th>\n",
       "      <th>id_37</th>\n",
       "      <th>id_38</th>\n",
       "      <th>DeviceType</th>\n",
       "      <th>DeviceInfo</th>\n",
       "    </tr>\n",
       "  </thead>\n",
       "  <tbody>\n",
       "    <tr>\n",
       "      <th>0</th>\n",
       "      <td>3663549</td>\n",
       "      <td>18403224</td>\n",
       "      <td>31.95</td>\n",
       "      <td>W</td>\n",
       "      <td>10409</td>\n",
       "      <td>111.0</td>\n",
       "      <td>150.0</td>\n",
       "      <td>visa</td>\n",
       "      <td>226.0</td>\n",
       "      <td>debit</td>\n",
       "      <td>...</td>\n",
       "      <td>NaN</td>\n",
       "      <td>NaN</td>\n",
       "      <td>NaN</td>\n",
       "      <td>NaN</td>\n",
       "      <td>NaN</td>\n",
       "      <td>NaN</td>\n",
       "      <td>NaN</td>\n",
       "      <td>NaN</td>\n",
       "      <td>NaN</td>\n",
       "      <td>NaN</td>\n",
       "    </tr>\n",
       "    <tr>\n",
       "      <th>1</th>\n",
       "      <td>3663550</td>\n",
       "      <td>18403263</td>\n",
       "      <td>49.00</td>\n",
       "      <td>W</td>\n",
       "      <td>4272</td>\n",
       "      <td>111.0</td>\n",
       "      <td>150.0</td>\n",
       "      <td>visa</td>\n",
       "      <td>226.0</td>\n",
       "      <td>debit</td>\n",
       "      <td>...</td>\n",
       "      <td>NaN</td>\n",
       "      <td>NaN</td>\n",
       "      <td>NaN</td>\n",
       "      <td>NaN</td>\n",
       "      <td>NaN</td>\n",
       "      <td>NaN</td>\n",
       "      <td>NaN</td>\n",
       "      <td>NaN</td>\n",
       "      <td>NaN</td>\n",
       "      <td>NaN</td>\n",
       "    </tr>\n",
       "    <tr>\n",
       "      <th>2</th>\n",
       "      <td>3663551</td>\n",
       "      <td>18403310</td>\n",
       "      <td>171.00</td>\n",
       "      <td>W</td>\n",
       "      <td>4476</td>\n",
       "      <td>574.0</td>\n",
       "      <td>150.0</td>\n",
       "      <td>visa</td>\n",
       "      <td>226.0</td>\n",
       "      <td>debit</td>\n",
       "      <td>...</td>\n",
       "      <td>NaN</td>\n",
       "      <td>NaN</td>\n",
       "      <td>NaN</td>\n",
       "      <td>NaN</td>\n",
       "      <td>NaN</td>\n",
       "      <td>NaN</td>\n",
       "      <td>NaN</td>\n",
       "      <td>NaN</td>\n",
       "      <td>NaN</td>\n",
       "      <td>NaN</td>\n",
       "    </tr>\n",
       "    <tr>\n",
       "      <th>3</th>\n",
       "      <td>3663552</td>\n",
       "      <td>18403310</td>\n",
       "      <td>284.95</td>\n",
       "      <td>W</td>\n",
       "      <td>10989</td>\n",
       "      <td>360.0</td>\n",
       "      <td>150.0</td>\n",
       "      <td>visa</td>\n",
       "      <td>166.0</td>\n",
       "      <td>debit</td>\n",
       "      <td>...</td>\n",
       "      <td>NaN</td>\n",
       "      <td>NaN</td>\n",
       "      <td>NaN</td>\n",
       "      <td>NaN</td>\n",
       "      <td>NaN</td>\n",
       "      <td>NaN</td>\n",
       "      <td>NaN</td>\n",
       "      <td>NaN</td>\n",
       "      <td>NaN</td>\n",
       "      <td>NaN</td>\n",
       "    </tr>\n",
       "    <tr>\n",
       "      <th>4</th>\n",
       "      <td>3663553</td>\n",
       "      <td>18403317</td>\n",
       "      <td>67.95</td>\n",
       "      <td>W</td>\n",
       "      <td>18018</td>\n",
       "      <td>452.0</td>\n",
       "      <td>150.0</td>\n",
       "      <td>mastercard</td>\n",
       "      <td>117.0</td>\n",
       "      <td>debit</td>\n",
       "      <td>...</td>\n",
       "      <td>NaN</td>\n",
       "      <td>NaN</td>\n",
       "      <td>NaN</td>\n",
       "      <td>NaN</td>\n",
       "      <td>NaN</td>\n",
       "      <td>NaN</td>\n",
       "      <td>NaN</td>\n",
       "      <td>NaN</td>\n",
       "      <td>NaN</td>\n",
       "      <td>NaN</td>\n",
       "    </tr>\n",
       "  </tbody>\n",
       "</table>\n",
       "<p>5 rows × 433 columns</p>\n",
       "</div>"
      ],
      "text/plain": [
       "   TransactionID  TransactionDT  TransactionAmt ProductCD  card1  card2  \\\n",
       "0        3663549       18403224           31.95         W  10409  111.0   \n",
       "1        3663550       18403263           49.00         W   4272  111.0   \n",
       "2        3663551       18403310          171.00         W   4476  574.0   \n",
       "3        3663552       18403310          284.95         W  10989  360.0   \n",
       "4        3663553       18403317           67.95         W  18018  452.0   \n",
       "\n",
       "   card3       card4  card5  card6  ...  id_31  id_32  id_33  id_34 id_35  \\\n",
       "0  150.0        visa  226.0  debit  ...    NaN    NaN    NaN    NaN   NaN   \n",
       "1  150.0        visa  226.0  debit  ...    NaN    NaN    NaN    NaN   NaN   \n",
       "2  150.0        visa  226.0  debit  ...    NaN    NaN    NaN    NaN   NaN   \n",
       "3  150.0        visa  166.0  debit  ...    NaN    NaN    NaN    NaN   NaN   \n",
       "4  150.0  mastercard  117.0  debit  ...    NaN    NaN    NaN    NaN   NaN   \n",
       "\n",
       "  id_36  id_37  id_38  DeviceType  DeviceInfo  \n",
       "0   NaN    NaN    NaN         NaN         NaN  \n",
       "1   NaN    NaN    NaN         NaN         NaN  \n",
       "2   NaN    NaN    NaN         NaN         NaN  \n",
       "3   NaN    NaN    NaN         NaN         NaN  \n",
       "4   NaN    NaN    NaN         NaN         NaN  \n",
       "\n",
       "[5 rows x 433 columns]"
      ]
     },
     "execution_count": 14,
     "metadata": {},
     "output_type": "execute_result"
    }
   ],
   "source": [
    "test_dataset.head()"
   ]
  },
  {
   "cell_type": "markdown",
   "metadata": {
    "colab_type": "text",
    "id": "ouSmWeKnN6hx"
   },
   "source": [
    "## I-2 Traitement des données "
   ]
  },
  {
   "cell_type": "markdown",
   "metadata": {
    "colab_type": "text",
    "id": "wOI3gPQJ769y"
   },
   "source": [
    "La base de données étant volumineuse on peut commencer par alléger l'espace alloué en modifiant le type des variables, sans perte d'informations"
   ]
  },
  {
   "cell_type": "code",
   "execution_count": 15,
   "metadata": {
    "colab": {},
    "colab_type": "code",
    "id": "XO7rp9f4imda"
   },
   "outputs": [],
   "source": [
    "def reduce_mem_usage(df, verbose=True):\n",
    "    numerics = ['int16', 'int32', 'int64', 'float16', 'float32', 'float64']\n",
    "    start_mem = df.memory_usage().sum() / 1024**2    \n",
    "    for col in df.columns:\n",
    "        col_type = df[col].dtypes\n",
    "        if col_type in numerics:\n",
    "            c_min = df[col].min()\n",
    "            c_max = df[col].max()\n",
    "            if str(col_type)[:3] == 'int':\n",
    "                if c_min > np.iinfo(np.int8).min and c_max < np.iinfo(np.int8).max:\n",
    "                    df[col] = df[col].astype(np.int8)\n",
    "                elif c_min > np.iinfo(np.int16).min and c_max < np.iinfo(np.int16).max:\n",
    "                    df[col] = df[col].astype(np.int16)\n",
    "                elif c_min > np.iinfo(np.int32).min and c_max < np.iinfo(np.int32).max:\n",
    "                    df[col] = df[col].astype(np.int32)\n",
    "                elif c_min > np.iinfo(np.int64).min and c_max < np.iinfo(np.int64).max:\n",
    "                    df[col] = df[col].astype(np.int64)  \n",
    "            else:\n",
    "                if c_min > np.finfo(np.float16).min and c_max < np.finfo(np.float16).max:\n",
    "                    df[col] = df[col].astype(np.float16)\n",
    "                elif c_min > np.finfo(np.float32).min and c_max < np.finfo(np.float32).max:\n",
    "                    df[col] = df[col].astype(np.float32)\n",
    "                else:\n",
    "                    df[col] = df[col].astype(np.float64)    \n",
    "    end_mem = df.memory_usage().sum() / 1024**2\n",
    "    if verbose: \n",
    "        print('Mem. usage decreased to {:5.2f} Mb ({:.1f}% reduction)'.format(end_mem, 100 * (start_mem - end_mem) / start_mem))\n",
    "    return df"
   ]
  },
  {
   "cell_type": "code",
   "execution_count": 16,
   "metadata": {
    "colab": {
     "base_uri": "https://localhost:8080/",
     "height": 92
    },
    "colab_type": "code",
    "id": "hRlzo4llmrqV",
    "outputId": "5f438c42-0c43-4f8e-e42a-e381f3e6fb64"
   },
   "outputs": [
    {
     "name": "stdout",
     "output_type": "stream",
     "text": [
      "Mem. usage decreased to 650.48 Mb (66.8% reduction)\n",
      "Mem. usage decreased to 565.37 Mb (66.3% reduction)\n",
      "CPU times: user 4min 53s, sys: 4min 47s, total: 9min 41s\n",
      "Wall time: 5min 18s\n"
     ]
    }
   ],
   "source": [
    "%%time\n",
    "train_dataset = reduce_mem_usage(train_dataset, verbose=True)\n",
    "test_dataset = reduce_mem_usage(test_dataset, verbose=True)"
   ]
  },
  {
   "cell_type": "markdown",
   "metadata": {},
   "source": [
    "Par ailleurs, nous constatons que les variables nommées id_xx dans la base d'entrainement sont nommées id-xx dans la base test. Nous créons donc une fonction pour que les variables aient le même nom dans chacune des bases."
   ]
  },
  {
   "cell_type": "code",
   "execution_count": 17,
   "metadata": {
    "colab": {
     "base_uri": "https://localhost:8080/",
     "height": 54
    },
    "colab_type": "code",
    "id": "XaLzpjNB7698",
    "outputId": "c0ca2392-7eb4-4194-f792-b4f6c58f0055"
   },
   "outputs": [
    {
     "name": "stdout",
     "output_type": "stream",
     "text": [
      "CPU times: user 900 µs, sys: 175 µs, total: 1.08 ms\n",
      "Wall time: 541 µs\n"
     ]
    }
   ],
   "source": [
    "%%time\n",
    "def modifColumnName(train, test, target=\"isFraud\"):\n",
    "    \"\"\"\n",
    "    modifie le nom des colonnes id-xx de la base test en id_xx\n",
    "    \"\"\"\n",
    "    col_X = [col for col in train.columns if col not in [target]]\n",
    "    bad_written_features_test = set(test.columns).difference(set(col_X))\n",
    "    for col in test.columns:\n",
    "        if col in bad_written_features_test:\n",
    "            test[col[0:2]+\"_\"+col[3:5]] = test[col]\n",
    "            del test[col]\n",
    "    return test\n",
    "\n",
    "test_dataset = modifColumnName(train=train_dataset, test=test_dataset)"
   ]
  },
  {
   "cell_type": "markdown",
   "metadata": {
    "colab_type": "text",
    "id": "MG1PQ-IeN6hx"
   },
   "source": [
    "### Suppression des variables avec un nombre de valeurs manquantes trop important"
   ]
  },
  {
   "cell_type": "markdown",
   "metadata": {
    "colab_type": "text",
    "id": "T0IQv8fMimdz"
   },
   "source": [
    "La base de données que nous avons choisie contient des données manquantes. Tout d'abord nous allons observer la proportion de valeurs manquantes pour chaque variable. Ainsi, nous décidons que si certaines variables possèdent trop de valeurs manquantes (nous fixons un seuil) nous les supprimons."
   ]
  },
  {
   "cell_type": "code",
   "execution_count": 18,
   "metadata": {
    "colab": {
     "base_uri": "https://localhost:8080/",
     "height": 317
    },
    "colab_type": "code",
    "id": "55z3MsJMN6hy",
    "outputId": "e022615f-c6be-40f4-b4ff-7ab0cd578faf"
   },
   "outputs": [
    {
     "data": {
      "text/plain": [
       "TransactionID      0.000000\n",
       "isFraud            0.000000\n",
       "TransactionDT      0.000000\n",
       "TransactionAmt     0.000000\n",
       "ProductCD          0.000000\n",
       "card1              0.000000\n",
       "card2              1.512683\n",
       "card3              0.265012\n",
       "card4              0.267044\n",
       "card5              0.721204\n",
       "card6              0.266028\n",
       "addr1             11.126427\n",
       "addr2             11.126427\n",
       "dist1             59.652352\n",
       "dist2             93.628374\n",
       "dtype: float64"
      ]
     },
     "execution_count": 18,
     "metadata": {},
     "output_type": "execute_result"
    }
   ],
   "source": [
    "# Proportion des données manquantes pour chaque variable\n",
    "train_data_null = train_dataset.isna().sum()/len(train_dataset) * 100\n",
    "train_data_null.head(15)"
   ]
  },
  {
   "cell_type": "markdown",
   "metadata": {
    "colab_type": "text",
    "id": "gg4fsyUzimeD"
   },
   "source": [
    "Nous affichons sous forme de barplot la proportion de valeurs non manquantes pour chaque variables :"
   ]
  },
  {
   "cell_type": "code",
   "execution_count": 19,
   "metadata": {
    "colab": {
     "base_uri": "https://localhost:8080/",
     "height": 1000
    },
    "colab_type": "code",
    "id": "OxZFrvgLimeE",
    "outputId": "9c6e382f-9cd6-4346-efd4-95bea7516849"
   },
   "outputs": [
    {
     "data": {
      "image/png": "[encoded data removed]",
      "text/plain": [
       "<Figure size 1728x720 with 3 Axes>"
      ]
     },
     "metadata": {
      "needs_background": "light"
     },
     "output_type": "display_data"
    },
    {
     "data": {
      "image/png": "[encoded data removed]",
      "text/plain": [
       "<Figure size 1728x720 with 3 Axes>"
      ]
     },
     "metadata": {
      "needs_background": "light"
     },
     "output_type": "display_data"
    },
    {
     "data": {
      "image/png": "[encoded data removed]",
      "text/plain": [
       "<Figure size 1728x720 with 3 Axes>"
      ]
     },
     "metadata": {
      "needs_background": "light"
     },
     "output_type": "display_data"
    },
    {
     "data": {
      "image/png": "[encoded data removed]",
      "text/plain": [
       "<Figure size 1728x720 with 3 Axes>"
      ]
     },
     "metadata": {
      "needs_background": "light"
     },
     "output_type": "display_data"
    },
    {
     "data": {
      "image/png": "[encoded data removed]",
      "text/plain": [
       "<Figure size 1728x720 with 3 Axes>"
      ]
     },
     "metadata": {
      "needs_background": "light"
     },
     "output_type": "display_data"
    },
    {
     "data": {
      "image/png": "[encoded data removed]",
      "text/plain": [
       "<Figure size 1728x720 with 3 Axes>"
      ]
     },
     "metadata": {
      "needs_background": "light"
     },
     "output_type": "display_data"
    },
    {
     "data": {
      "image/png": "[encoded data removed]",
      "text/plain": [
       "<Figure size 1728x720 with 3 Axes>"
      ]
     },
     "metadata": {
      "needs_background": "light"
     },
     "output_type": "display_data"
    },
    {
     "data": {
      "image/png": "[encoded data removed]",
      "text/plain": [
       "<Figure size 1728x720 with 3 Axes>"
      ]
     },
     "metadata": {
      "needs_background": "light"
     },
     "output_type": "display_data"
    },
    {
     "data": {
      "image/png": "[encoded data removed]",
      "text/plain": [
       "<Figure size 1728x720 with 3 Axes>"
      ]
     },
     "metadata": {
      "needs_background": "light"
     },
     "output_type": "display_data"
    },
    {
     "data": {
      "image/png": "[encoded data removed]",
      "text/plain": [
       "<Figure size 1728x720 with 3 Axes>"
      ]
     },
     "metadata": {
      "needs_background": "light"
     },
     "output_type": "display_data"
    },
    {
     "data": {
      "image/png": "[encoded data removed]",
      "text/plain": [
       "<Figure size 1728x720 with 3 Axes>"
      ]
     },
     "metadata": {
      "needs_background": "light"
     },
     "output_type": "display_data"
    }
   ],
   "source": [
    "# Programme pour visualiser les valeurs manquantes dans la base de données \n",
    "import missingno as msno\n",
    "\n",
    "feature=list(train_dataset.columns)\n",
    "for i in range(10):\n",
    "    plt.subplot(11,1,i+1)\n",
    "    msno.bar(train_dataset[feature[36*i:36*i+36]].copy(),labels=True)\n",
    "    plt.show()\n",
    "    plt.subplots_adjust(bottom=0.1, right=0.8, top=5)\n",
    "\n",
    "plt.subplot(11,1,11)\n",
    "msno.bar(train_dataset[feature[360:]].copy(),labels=True)\n",
    "plt.show()"
   ]
  },
  {
   "cell_type": "markdown",
   "metadata": {
    "colab_type": "text",
    "id": "KCVrSXjUimeL"
   },
   "source": [
    "Nous décidons de supprimer toutes les variables qui contiennent plus de 50% de variables manquantes "
   ]
  },
  {
   "cell_type": "code",
   "execution_count": 20,
   "metadata": {
    "colab": {
     "base_uri": "https://localhost:8080/",
     "height": 54
    },
    "colab_type": "code",
    "id": "0AkZXRPo76-O",
    "outputId": "c35e8bcb-58a1-451e-8a0d-52840f28f81f"
   },
   "outputs": [
    {
     "name": "stdout",
     "output_type": "stream",
     "text": [
      "(506691, 219)\n",
      "CPU times: user 4.31 s, sys: 2 s, total: 6.32 s\n",
      "Wall time: 5.99 s\n"
     ]
    }
   ],
   "source": [
    "%%time\n",
    "taux = .5\n",
    "train_dataset = train_dataset.dropna(thresh=int(train_dataset.shape[0]*taux), axis=1)\n",
    "feat_after = [col for col in train_dataset.columns if col not in [\"isFraud\"]]\n",
    "#Nous supprimons les mêmes colonnes dans la base test\n",
    "test_dataset = test_dataset[feat_after]\n",
    "print(test_dataset.shape)"
   ]
  },
  {
   "cell_type": "markdown",
   "metadata": {
    "colab_type": "text",
    "id": "tbspIW1iimec"
   },
   "source": [
    "Ainsi, sur les 434 variables dont nous disposions au début nous n'en gardons que 220."
   ]
  },
  {
   "cell_type": "markdown",
   "metadata": {
    "colab_type": "text",
    "id": "WIqo5H3Limet"
   },
   "source": [
    "### Traitement des valeurs manquantes"
   ]
  },
  {
   "cell_type": "markdown",
   "metadata": {
    "colab_type": "text",
    "id": "Qc9hlemPimeu"
   },
   "source": [
    "Même si nous avons supprimé une partie des variables qui contenaient un nombre trop important de valeurs manquantes, il manque encore certaines valeurs. Nous allons donc implémenter différentes techniques pour remplacer ces valeurs afin de pouvoir tester par la suite les différents algorithmes de classification.\n",
    "\n",
    "Tout d'abord, nous séparons les variables catégoriques des variables numériques :"
   ]
  },
  {
   "cell_type": "code",
   "execution_count": 21,
   "metadata": {
    "colab": {
     "base_uri": "https://localhost:8080/",
     "height": 111
    },
    "colab_type": "code",
    "id": "7eG_WBH3rN0e",
    "outputId": "745a2234-e5fc-41ed-86e7-b1b8108edc97"
   },
   "outputs": [
    {
     "name": "stdout",
     "output_type": "stream",
     "text": [
      "<class 'pandas.core.frame.DataFrame'>\n",
      "Int64Index: 590540 entries, 0 to 590539\n",
      "Columns: 220 entries, TransactionID to V321\n",
      "dtypes: float16(189), float32(18), int16(1), int32(2), int8(1), object(9)\n",
      "memory usage: 304.7+ MB\n"
     ]
    }
   ],
   "source": [
    "# voir les types des variables\n",
    "train_dataset.info()"
   ]
  },
  {
   "cell_type": "code",
   "execution_count": 22,
   "metadata": {
    "colab": {
     "base_uri": "https://localhost:8080/",
     "height": 54
    },
    "colab_type": "code",
    "id": "yxXnjAzsriyk",
    "outputId": "2838c94a-5588-4475-9951-e5ee5658f801"
   },
   "outputs": [
    {
     "name": "stdout",
     "output_type": "stream",
     "text": [
      "CPU times: user 1.59 s, sys: 774 ms, total: 2.37 s\n",
      "Wall time: 1.36 s\n"
     ]
    }
   ],
   "source": [
    "%%time\n",
    "features = [col for col in train_dataset.columns if col not in [\"isFraud\", \"TransactionID\"]]\n",
    "\n",
    "num_feat = train_dataset[features].select_dtypes(include=['float16', 'float32','int16','int32']).columns.to_list()\n",
    "cat_feat = train_dataset[features].select_dtypes(exclude=['float16', 'float32','int16','int32']).columns.to_list()"
   ]
  },
  {
   "cell_type": "markdown",
   "metadata": {},
   "source": [
    "#### Variables numériques"
   ]
  },
  {
   "cell_type": "markdown",
   "metadata": {
    "colab_type": "text",
    "id": "HF3i380Mime5"
   },
   "source": [
    "Nous décidons de remplacer les valeurs manquantes numériques par la moyenne de chaque variable. C'est une technique relativement simple et il existe d'autres techniques plus avancées que nous n'utiliserons pas dans le cadre de ce projet."
   ]
  },
  {
   "cell_type": "code",
   "execution_count": 23,
   "metadata": {
    "colab": {
     "base_uri": "https://localhost:8080/",
     "height": 54
    },
    "colab_type": "code",
    "id": "7D4A9bTiN6iN",
    "outputId": "3cfa99ab-466e-4a6c-d8bf-4a91b692e18d"
   },
   "outputs": [],
   "source": [
    "#%%time\n",
    "def impute_numeric(data, feat):\n",
    "    \"\"\"\n",
    "    Remplace les valeurs manquantes par la moyenne\n",
    "    \"\"\"\n",
    "    imputer = SimpleImputer(missing_values=np.nan, strategy=\"mean\", fill_value=None,\n",
    "                            verbose=0, copy=True, add_indicator=False)\n",
    "    X = pd.DataFrame(imputer.fit_transform(data[feat].values), columns=feat)\n",
    "    return X    \n",
    "\n",
    "X_train_num = impute_numeric(data=train_dataset, feat=num_feat)\n",
    "X_test_num = impute_numeric(data=test_dataset, feat=num_feat)"
   ]
  },
  {
   "cell_type": "markdown",
   "metadata": {
    "colab_type": "text",
    "id": "AxND224L76-l"
   },
   "source": [
    "#### Variables catégorielles"
   ]
  },
  {
   "cell_type": "markdown",
   "metadata": {
    "colab_type": "text",
    "id": "qpkWWeSl76-p"
   },
   "source": [
    "Tout d'abord nous devons décider d'une méthode pour remplacer les valeurs manquantes. Nous séléctionnons deux méthodes : \n",
    "- Nous remplaçons les valeurs manquantes par la modalité la plus représentée \n",
    "- Nous créons une modalité Other pour les valeurs manquantes.\n",
    "\n",
    "Ensuite, nous devons transformer les variables catégorielles afin qu'elles puissent être utilisées par nos algorithmes. Pour cela on dispose de plusieurs méthodes :\n",
    "- OneHotEncoding (variables dummies) : pour chaque variable catégorielle nous créons une colonne par modalité. Cela implique un grand nombre de colonnes si les variables possèdent beaucoup de modalités.\n",
    "- LabelEncoder : nous ne créons pas de nouvelle colonne, chaque modalité est transformée en une valeur entière. Cela limite donc le nombre de modalités.\n"
   ]
  },
  {
   "cell_type": "code",
   "execution_count": 24,
   "metadata": {
    "colab": {
     "base_uri": "https://localhost:8080/",
     "height": 467
    },
    "colab_type": "code",
    "id": "_Jvhr3aK76-r",
    "outputId": "c40e8064-801d-47b2-9ec3-6f0b4d786b28"
   },
   "outputs": [
    {
     "name": "stdout",
     "output_type": "stream",
     "text": [
      "Filling nan ProductCD ... \n",
      "~~~ LabelEncoding ProductCD ... \n",
      "Filling nan card4 ... \n",
      "~~~ LabelEncoding card4 ... \n",
      "Filling nan card6 ... \n",
      "~~~ LabelEncoding card6 ... \n",
      "Filling nan P_emaildomain ... \n",
      "~~~ LabelEncoding P_emaildomain ... \n",
      "Filling nan M1 ... \n",
      "~~~ LabelEncoding M1 ... \n",
      "Filling nan M2 ... \n",
      "~~~ LabelEncoding M2 ... \n",
      "Filling nan M3 ... \n",
      "~~~ LabelEncoding M3 ... \n",
      "Filling nan M4 ... \n",
      "~~~ LabelEncoding M4 ... \n",
      "Filling nan M6 ... \n",
      "~~~ LabelEncoding M6 ... \n",
      " ... End \n",
      "CPU times: user 14.9 s, sys: 681 ms, total: 15.6 s\n",
      "Wall time: 12.9 s\n"
     ]
    }
   ],
   "source": [
    "%%time\n",
    "def impute_categorical(train, test, categorical_features, method, filling_method, n_values=50):\n",
    "    \n",
    "    train_cat = train[categorical_features].astype(str)\n",
    "    test_cat = test[categorical_features].astype(str)\n",
    "\n",
    "    for col in categorical_features:\n",
    "\n",
    "        print(\"Filling nan \"+str(col)+\" ... \")\n",
    "        \n",
    "        # VALEURS MANQUANTES\n",
    "        if filling_method == 'mostFqz':\n",
    "            value = train[col].value_counts().index[0] #va remplacer le NaN\n",
    "            train_cat[col] = train[col].apply(lambda x: value if pd.isnull(x) else x)\n",
    "            test_cat[col] = test[col].apply(lambda x: value if pd.isnull(x) else x)\n",
    "        else:\n",
    "            train_cat[col] = train[col].apply(lambda x: 'Other' if pd.isnull(x) else x)\n",
    "            test_cat[col] = test[col].apply(lambda x: 'Other' if pd.isnull(x) else x)\n",
    "\n",
    "        # TRANSFORMATION DES VARIABLES\n",
    "        \n",
    "        if method == 'LE':\n",
    "\n",
    "            print(\"~~~ LabelEncoding \"+str(col)+\" ... \")\n",
    "\n",
    "            LE = LabelEncoder()\n",
    "            tab = pd.concat([train_cat[col], test_cat[col]], axis=0)\n",
    "            LE.fit(tab)\n",
    "            #certaines modalités n'apparaissent que dans test et génère des erreurs\n",
    "            train_cat[col] = LE.transform(train_cat[col])\n",
    "            test_cat[col] = LE.transform(test_cat[col])\n",
    "            \n",
    "    if method == 'OHE':\n",
    "\n",
    "        print(\"~~~ OneHotEncoding ... \")\n",
    "\n",
    "        categories = []\n",
    "\n",
    "        # Nombre trop important de modalité sur certaines variables ==> Memory Error donc limitation à\n",
    "        # 'n_values' modalités\n",
    "        for column in categorical_features:\n",
    "\n",
    "            print((\"Recovery of the most frequent modalities for \"+str(column)+\" ... \"))\n",
    "            categories.append(list(train_cat[column].value_counts().iloc[: n_values - 1].index) + ['Others'])\n",
    "            values2use = categories[-1]\n",
    "            train_cat[column] = train_cat[column].apply(lambda x: x if x in values2use else 'Others')\n",
    "            test_cat[column] = test_cat[column].apply(lambda x: x if x in values2use else 'Others')\n",
    "            \n",
    "        OHE = OneHotEncoder(categories=categories)\n",
    "        OHE.fit(train_cat)\n",
    "        train_cat = pd.DataFrame(OHE.transform(train_cat).toarray().astype(np.int8),\n",
    "                                      columns=OHE.get_feature_names(categorical_features), dtype=int)\n",
    "        test_cat = pd.DataFrame(OHE.transform(test_cat).toarray().astype(np.int8),\n",
    "                                      columns=OHE.get_feature_names(categorical_features), dtype=int)\n",
    "    print(\" ... End \")\n",
    "\n",
    "    return train_cat, test_cat\n",
    "\n",
    "bd = impute_categorical(train=train_dataset,\n",
    "                        test=test_dataset,\n",
    "                        categorical_features=cat_feat,\n",
    "                        method=\"LE\", #OHE : OneHotEncoder / LE : LabelEncoder\n",
    "                        filling_method=None) #mostFqz : valeur la plus fréquente / None : créer une catégorie à part\n",
    "\n",
    "X_train_cat, X_test_cat = bd[0], bd[1]\n",
    "del bd"
   ]
  },
  {
   "cell_type": "code",
   "execution_count": 25,
   "metadata": {
    "colab": {
     "base_uri": "https://localhost:8080/",
     "height": 54
    },
    "colab_type": "code",
    "id": "JrZWGMNzN6iS",
    "outputId": "b6e66560-a7ab-44a1-c352-b0a07a4464c6"
   },
   "outputs": [
    {
     "name": "stdout",
     "output_type": "stream",
     "text": [
      "Shape Train : (590540, 220)\n",
      "Shape Test : (506691, 219)\n"
     ]
    }
   ],
   "source": [
    "Train = pd.concat([train_dataset[[\"isFraud\", \"TransactionID\"]], X_train_num, X_train_cat], axis=1)\n",
    "Test = pd.concat([test_dataset[\"TransactionID\"], X_test_num, X_test_cat],axis=1)\n",
    "\n",
    "target = \"isFraud\"\n",
    "col_X = [col for col in Train.columns if col not in target]\n",
    "\n",
    "del train_dataset, test_dataset, X_train_num, X_train_cat, X_test_num, X_test_cat\n",
    "\n",
    "print(\"Shape Train :\", Train.shape)\n",
    "print(\"Shape Test :\", Test.shape)"
   ]
  },
  {
   "cell_type": "markdown",
   "metadata": {},
   "source": [
    "Nous décidons également mettre les variables numériques à la même echelle "
   ]
  },
  {
   "cell_type": "code",
   "execution_count": 26,
   "metadata": {
    "colab": {
     "base_uri": "https://localhost:8080/",
     "height": 54
    },
    "colab_type": "code",
    "id": "FsSQq5bczXm5",
    "outputId": "51c1f03b-bd06-45b2-b6fa-22dd097b2910"
   },
   "outputs": [
    {
     "name": "stdout",
     "output_type": "stream",
     "text": [
      "CPU times: user 4.49 s, sys: 802 ms, total: 5.29 s\n",
      "Wall time: 4.13 s\n"
     ]
    }
   ],
   "source": [
    "%%time\n",
    "from sklearn.preprocessing import MinMaxScaler\n",
    "\n",
    "mn = MinMaxScaler(feature_range=(0, 1), copy=False)\n",
    "Train[num_feat] = pd.DataFrame(mn.fit_transform(Train[num_feat]), columns=num_feat)\n",
    "Test[num_feat] = pd.DataFrame(mn.transform(Test[num_feat]), columns=num_feat)"
   ]
  },
  {
   "cell_type": "markdown",
   "metadata": {
    "colab_type": "text",
    "id": "_zuSloVgN6iU"
   },
   "source": [
    "## I-3 Séparation des données : train et validation"
   ]
  },
  {
   "cell_type": "markdown",
   "metadata": {},
   "source": [
    "Nous séparons la base d'entrainement en deux : base d'entrainement et base de validation. Nous utilisons 20% de la base d'entrainement pour créer la base de validation"
   ]
  },
  {
   "cell_type": "code",
   "execution_count": 27,
   "metadata": {
    "colab": {},
    "colab_type": "code",
    "id": "Oxfbn-kVN6iU"
   },
   "outputs": [],
   "source": [
    "pct=0.2\n",
    "X_tr, X_val, y_tr, y_val = train_test_split(Train[col_X], Train[target], test_size=pct, random_state=42)"
   ]
  },
  {
   "cell_type": "code",
   "execution_count": 27,
   "metadata": {},
   "outputs": [
    {
     "name": "stdout",
     "output_type": "stream",
     "text": [
      "len of X_train= 472432\n",
      "len of X_validation= 118108\n"
     ]
    }
   ],
   "source": [
    "print(\"len of X_train=\",len(X_tr))\n",
    "print(\"len of X_validation=\",len(X_val))"
   ]
  },
  {
   "cell_type": "markdown",
   "metadata": {},
   "source": [
    "## I-4 Techniques d'échantillonnage pour la classification binaire déséquilibrée"
   ]
  },
  {
   "cell_type": "markdown",
   "metadata": {},
   "source": [
    "Pour trouver des solutions au problème de classification binaire déséquilibrée, nous proposons deux techniques d'échantillonnage sur nos données d'entrainement. Ainsi, nous pourrons tester ces méthodes sur nos algorithmes."
   ]
  },
  {
   "cell_type": "markdown",
   "metadata": {},
   "source": [
    "### Under sampling"
   ]
  },
  {
   "cell_type": "markdown",
   "metadata": {},
   "source": [
    "La méthode d'under sampling consiste à réduire le nombre d'observations de la classe majoritaire afin d'obtenir une part équivalente de données issues de la classe positive et de la classe négative. Cela implique donc une perte d'information dans la mesure où nous supprimons une partie des données."
   ]
  },
  {
   "cell_type": "code",
   "execution_count": 30,
   "metadata": {
    "colab": {},
    "colab_type": "code",
    "id": "R9kYGAawimf6",
    "outputId": "2b62c147-9869-47bf-d05e-869ad7ab0db2"
   },
   "outputs": [
    {
     "name": "stderr",
     "output_type": "stream",
     "text": [
      "Using TensorFlow backend.\n",
      "/Users/raphaelmignot/anaconda3/lib/python3.7/site-packages/tensorflow/python/framework/dtypes.py:516: FutureWarning: Passing (type, 1) or '1type' as a synonym of type is deprecated; in a future version of numpy, it will be understood as (type, (1,)) / '(1,)type'.\n",
      "  _np_qint8 = np.dtype([(\"qint8\", np.int8, 1)])\n",
      "/Users/raphaelmignot/anaconda3/lib/python3.7/site-packages/tensorflow/python/framework/dtypes.py:517: FutureWarning: Passing (type, 1) or '1type' as a synonym of type is deprecated; in a future version of numpy, it will be understood as (type, (1,)) / '(1,)type'.\n",
      "  _np_quint8 = np.dtype([(\"quint8\", np.uint8, 1)])\n",
      "/Users/raphaelmignot/anaconda3/lib/python3.7/site-packages/tensorflow/python/framework/dtypes.py:518: FutureWarning: Passing (type, 1) or '1type' as a synonym of type is deprecated; in a future version of numpy, it will be understood as (type, (1,)) / '(1,)type'.\n",
      "  _np_qint16 = np.dtype([(\"qint16\", np.int16, 1)])\n",
      "/Users/raphaelmignot/anaconda3/lib/python3.7/site-packages/tensorflow/python/framework/dtypes.py:519: FutureWarning: Passing (type, 1) or '1type' as a synonym of type is deprecated; in a future version of numpy, it will be understood as (type, (1,)) / '(1,)type'.\n",
      "  _np_quint16 = np.dtype([(\"quint16\", np.uint16, 1)])\n",
      "/Users/raphaelmignot/anaconda3/lib/python3.7/site-packages/tensorflow/python/framework/dtypes.py:520: FutureWarning: Passing (type, 1) or '1type' as a synonym of type is deprecated; in a future version of numpy, it will be understood as (type, (1,)) / '(1,)type'.\n",
      "  _np_qint32 = np.dtype([(\"qint32\", np.int32, 1)])\n",
      "/Users/raphaelmignot/anaconda3/lib/python3.7/site-packages/tensorflow/python/framework/dtypes.py:525: FutureWarning: Passing (type, 1) or '1type' as a synonym of type is deprecated; in a future version of numpy, it will be understood as (type, (1,)) / '(1,)type'.\n",
      "  np_resource = np.dtype([(\"resource\", np.ubyte, 1)])\n",
      "/Users/raphaelmignot/anaconda3/lib/python3.7/site-packages/tensorboard/compat/tensorflow_stub/dtypes.py:541: FutureWarning: Passing (type, 1) or '1type' as a synonym of type is deprecated; in a future version of numpy, it will be understood as (type, (1,)) / '(1,)type'.\n",
      "  _np_qint8 = np.dtype([(\"qint8\", np.int8, 1)])\n",
      "/Users/raphaelmignot/anaconda3/lib/python3.7/site-packages/tensorboard/compat/tensorflow_stub/dtypes.py:542: FutureWarning: Passing (type, 1) or '1type' as a synonym of type is deprecated; in a future version of numpy, it will be understood as (type, (1,)) / '(1,)type'.\n",
      "  _np_quint8 = np.dtype([(\"quint8\", np.uint8, 1)])\n",
      "/Users/raphaelmignot/anaconda3/lib/python3.7/site-packages/tensorboard/compat/tensorflow_stub/dtypes.py:543: FutureWarning: Passing (type, 1) or '1type' as a synonym of type is deprecated; in a future version of numpy, it will be understood as (type, (1,)) / '(1,)type'.\n",
      "  _np_qint16 = np.dtype([(\"qint16\", np.int16, 1)])\n",
      "/Users/raphaelmignot/anaconda3/lib/python3.7/site-packages/tensorboard/compat/tensorflow_stub/dtypes.py:544: FutureWarning: Passing (type, 1) or '1type' as a synonym of type is deprecated; in a future version of numpy, it will be understood as (type, (1,)) / '(1,)type'.\n",
      "  _np_quint16 = np.dtype([(\"quint16\", np.uint16, 1)])\n",
      "/Users/raphaelmignot/anaconda3/lib/python3.7/site-packages/tensorboard/compat/tensorflow_stub/dtypes.py:545: FutureWarning: Passing (type, 1) or '1type' as a synonym of type is deprecated; in a future version of numpy, it will be understood as (type, (1,)) / '(1,)type'.\n",
      "  _np_qint32 = np.dtype([(\"qint32\", np.int32, 1)])\n",
      "/Users/raphaelmignot/anaconda3/lib/python3.7/site-packages/tensorboard/compat/tensorflow_stub/dtypes.py:550: FutureWarning: Passing (type, 1) or '1type' as a synonym of type is deprecated; in a future version of numpy, it will be understood as (type, (1,)) / '(1,)type'.\n",
      "  np_resource = np.dtype([(\"resource\", np.ubyte, 1)])\n"
     ]
    }
   ],
   "source": [
    "from imblearn.under_sampling import RandomUnderSampler\n",
    "\n",
    "ran=RandomUnderSampler() \n",
    "X_rs,y_rs = ran.fit_sample(X_tr, y_tr)"
   ]
  },
  {
   "cell_type": "code",
   "execution_count": 33,
   "metadata": {},
   "outputs": [
    {
     "data": {
      "text/plain": [
       "Text(0.5, 1.0, \"Répartition de la variable 'isFraud'\")"
      ]
     },
     "execution_count": 33,
     "metadata": {},
     "output_type": "execute_result"
    },
    {
     "data": {
      "image/png": "[encoded data removed]",
      "text/plain": [
       "<Figure size 432x288 with 1 Axes>"
      ]
     },
     "metadata": {
      "needs_background": "light"
     },
     "output_type": "display_data"
    }
   ],
   "source": [
    "x = np.array([len(y_rs[y_rs==0]),len(y_rs[y_rs==1])])\n",
    "sns.barplot([0,1], x)\n",
    "plt.title(\"Répartition de la variable 'isFraud'\")"
   ]
  },
  {
   "cell_type": "code",
   "execution_count": 34,
   "metadata": {},
   "outputs": [
    {
     "data": {
      "text/plain": [
       "(32842, 219)"
      ]
     },
     "execution_count": 34,
     "metadata": {},
     "output_type": "execute_result"
    }
   ],
   "source": [
    "X_rs.shape"
   ]
  },
  {
   "cell_type": "markdown",
   "metadata": {},
   "source": [
    "Nous constatons ici que nous perdons beaucoup de données : nous passons de 472432 à 32842 observations."
   ]
  },
  {
   "cell_type": "markdown",
   "metadata": {},
   "source": [
    "### Over sampling"
   ]
  },
  {
   "cell_type": "markdown",
   "metadata": {},
   "source": [
    "La méthode d'over sampling consiste à dupliquer aléatoirement des données issues de la classe positive afin d’atteindre une proportion équivalente de données de la classe positive et négative. Néanmoins cela peut être risqué car il peut y avoir un sur apprentissage du modèle"
   ]
  },
  {
   "cell_type": "code",
   "execution_count": 35,
   "metadata": {
    "colab": {},
    "colab_type": "code",
    "id": "RfAqpq1aimf9"
   },
   "outputs": [],
   "source": [
    "from imblearn.over_sampling import RandomOverSampler\n",
    "\n",
    "ran=RandomOverSampler()\n",
    "X_ran,y_ran= ran.fit_resample(X_tr,y_tr)\n"
   ]
  },
  {
   "cell_type": "code",
   "execution_count": 36,
   "metadata": {},
   "outputs": [
    {
     "data": {
      "text/plain": [
       "Text(0.5, 1.0, \"Répartition de la variable 'isFraud'\")"
      ]
     },
     "execution_count": 36,
     "metadata": {},
     "output_type": "execute_result"
    },
    {
     "data": {
      "image/png": "[encoded data removed]",
      "text/plain": [
       "<Figure size 432x288 with 1 Axes>"
      ]
     },
     "metadata": {
      "needs_background": "light"
     },
     "output_type": "display_data"
    }
   ],
   "source": [
    "x = np.array([len(y_ran[y_ran==0]),len(y_ran[y_ran==1])])\n",
    "sns.barplot([0,1], x)\n",
    "plt.title(\"Répartition de la variable 'isFraud'\")"
   ]
  },
  {
   "cell_type": "markdown",
   "metadata": {},
   "source": [
    "  "
   ]
  },
  {
   "cell_type": "markdown",
   "metadata": {},
   "source": [
    "  "
   ]
  },
  {
   "cell_type": "markdown",
   "metadata": {},
   "source": [
    "  "
   ]
  },
  {
   "cell_type": "markdown",
   "metadata": {},
   "source": [
    "# II- Arbre de décision"
   ]
  },
  {
   "cell_type": "markdown",
   "metadata": {},
   "source": [
    "Les arbres de décision sont des algorithmes d'apprentissage utilisés à la fois pour la regression et la classification supervisée. Ici, nous allons les utiliser dans le cadre de notre problème de classification binaire supervisée. Nous allons utiliser l'algorithme de CART.\n",
    "\n",
    "D'après le cours, nous savons qu'un arbre de décision consiste à décomposer le problème de classification en une suite de tests simples qui partitionne l'espace des données (noté ici $\\{\\mathcal X\\}$) en sous régions homogènes. Chaque noeud de l'arbre correspond à une règle.\n",
    "\n",
    "A chaque étape de l'algorithme d'apprentissage :\n",
    "- On considère la partiton  $\\mathcal P = \\{\\mathcal X\\}$;\n",
    "- Pour chaque élément $\\mathcal A$ de $\\mathcal P$ on définit la sous partition $\\mathcal A = \\mathcal L_{j, \\tau} \\cup \\mathcal R_{j, \\tau}$ où  $j$ est l'index de la variable et $\\tau \\in \\mathbb R$ un seuil et\n",
    "\n",
    "\\begin{cases}\n",
    "        \\mathcal L_{j, \\tau} = \\left\\{ x \\in \\mathcal A :  x_j \\le \\tau \\right\\}\\\\\n",
    "        \\mathcal R_{j, \\tau} = \\left\\{ x \\in \\mathcal A :  x_j > \\tau \\right\\}\n",
    "        %= \\mathcal A \\backslash \\mathcal L_{j, \\tau}.\n",
    "\\end{cases}\n",
    "\n",
    "sont les parties droite et gauche de $\\mathcal A$. Ensuite les meilleures paires variables et seuils sont trouvées :\n",
    "$$\n",
    "    (j, \\tau) \\in \\operatorname{arg\\,min}_{1 \\le j \\le d \\atop \\tau \\in \\mathbb R}\n",
    "    \\frac{\\left| \\mathcal L_{j, \\tau} \\right|}{\\left| \\mathcal A \\right|} D(\\mathcal L_{j, \\tau}) +\n",
    "    \\frac{\\left| \\mathcal R_{j, \\tau} \\right|}{\\left| \\mathcal A \\right|} D(\\mathcal R_{j, \\tau})\n",
    "$$\n",
    "où $D$ est une mesure d'impureté.\n",
    "- On remplace $\\mathcal A$ par $\\mathcal L_{j, \\tau}$ et $\\mathcal R_{j, \\tau}$ dans la partition $\\mathcal P$;\n",
    "- On recommence à partir de la deuxième étape\n",
    "\n",
    "Pour un sous ensemble  $\\mathcal A$ on peut définir le ratio d'observations de  $\\mathcal A$ appartenant à la classe $y \\in \\mathcal Y$,  ici $\\mathcal Y = \\left\\{ 0,1  \\right\\} $:\n",
    "$$\n",
    "    p_y(\\mathcal A) = \\frac{\\left| \\left\\{ i \\in [n] : X_i \\in \\mathcal A, Y_i=y \\right\\} \\right|}{\\left| \\mathcal A \\right|}.\n",
    "$$\n",
    "\n",
    "Dans le cadre d'une classification la mesure d'impureté, $\\mathcal D$ peut être :\n",
    "- Gini : $D(\\mathcal A) = \\sum_{y \\in \\mathcal Y} p_y(\\mathcal A) (1-p_y(\\mathcal A))$ \n",
    "- entropy: $D(\\mathcal A) = - \\sum_{y \\in \\mathcal Y} p_y(\\mathcal A) \\log(p_y(\\mathcal A))$ \n",
    "\n",
    "\n",
    "Enfin, il existe différents critères d'arrêt :\n",
    "- La profondeur maximale de l'arbre\n",
    "- Le nombre minimal d'observations nécessaire pour diviser un noeud interne\n",
    "- Le nombre minimal d'observations nécessaire pour être au niveau d'une feuille\n",
    "- Le nombre maximal de feuilles\n",
    "\n"
   ]
  },
  {
   "cell_type": "markdown",
   "metadata": {},
   "source": [
    "Par ailleurs afin de tenir compte de notre problème de classification déséquilibrée nous utilisons le paramètre class_weight proposé par l'algorithme de Sckit learn. Il permet d’attribuer plus de poids à certaines observations. En utilisant class_weight = « balanced », l’attribution des poids se fera automatiquement en fonction de la proportion des classes "
   ]
  },
  {
   "cell_type": "code",
   "execution_count": 33,
   "metadata": {},
   "outputs": [],
   "source": [
    "from sklearn.tree import DecisionTreeClassifier"
   ]
  },
  {
   "cell_type": "code",
   "execution_count": 59,
   "metadata": {},
   "outputs": [
    {
     "name": "stdout",
     "output_type": "stream",
     "text": [
      "Wall time: 5min 26s\n"
     ]
    },
    {
     "data": {
      "text/plain": [
       "<matplotlib.legend.Legend at 0x18a1ba93048>"
      ]
     },
     "execution_count": 59,
     "metadata": {},
     "output_type": "execute_result"
    },
    {
     "data": {
      "image/png": "[encoded data removed]",
      "text/plain": [
       "<Figure size 720x360 with 1 Axes>"
      ]
     },
     "metadata": {
      "needs_background": "light"
     },
     "output_type": "display_data"
    }
   ],
   "source": [
    "%%time\n",
    "depths = [1,5,10,15,20]\n",
    "criteria = ['gini','entropy']\n",
    "\n",
    "train_auc = []\n",
    "test_auc = []\n",
    "for criterion in criteria:\n",
    "    train_auc.append([])  # New criteria => new list\n",
    "    test_auc.append([])\n",
    "    for depth in depths:\n",
    "        clf = DecisionTreeClassifier(max_depth=depth,criterion=criterion,class_weight=\"balanced\")\n",
    "        clf.fit(X_tr, y_tr)\n",
    "        train_pred = clf.predict_proba(X_tr)\n",
    "        y_pred = clf.predict_proba(X_val)\n",
    "        train_auc[-1].append(roc_auc_score(y_tr,train_pred[:,1]))\n",
    "        test_auc[-1].append( roc_auc_score(y_val,y_pred[:,1]))\n",
    "        \n",
    "plt.figure(figsize=(10, 5))\n",
    "colors = \"bgrc\"\n",
    "for ic, criterion in enumerate(criteria):\n",
    "    plt.scatter(depths, train_auc[ic], color=colors[ic], \n",
    "             label=criterion+\" (train)\")\n",
    "    plt.scatter(depths, test_auc[ic], color=colors[ic], marker = '+',\n",
    "           label=criterion+\" (test)\")\n",
    "\n",
    "    \n",
    "plt.xlabel(\"Tree depth\")\n",
    "plt.ylabel(\"ROC AUC SCORE\")\n",
    "plt.grid()\n",
    "plt.legend(loc=\"best\")\n"
   ]
  },
  {
   "cell_type": "markdown",
   "metadata": {},
   "source": [
    "Grâce à ce graphique nous constatons que le critère de 'gini' donne de meilleurs résultats. Par ailleurs, nous choisissons comme critère d'arrêt de l'algorithme la profondeur maximale de l'arbre. Une profondeur égale à 10 semble être un bon choix puisqu'en choisissant 15 ou 20 nous n'obtenons pas significativement de meilleurs résultats sur la base de validation. De plus en choisissant une profondeur maximale trop importante nous risquons de créer du sur apprentissage et l'algorithme sera plus long à tourner."
   ]
  },
  {
   "cell_type": "code",
   "execution_count": 69,
   "metadata": {},
   "outputs": [
    {
     "name": "stdout",
     "output_type": "stream",
     "text": [
      "Wall time: 30.6 s\n"
     ]
    },
    {
     "data": {
      "text/plain": [
       "DecisionTreeClassifier(class_weight='balanced', criterion='gini', max_depth=10,\n",
       "                       max_features=None, max_leaf_nodes=None,\n",
       "                       min_impurity_decrease=0.0, min_impurity_split=None,\n",
       "                       min_samples_leaf=1, min_samples_split=2,\n",
       "                       min_weight_fraction_leaf=0.0, presort=False,\n",
       "                       random_state=None, splitter='best')"
      ]
     },
     "execution_count": 69,
     "metadata": {},
     "output_type": "execute_result"
    }
   ],
   "source": [
    "%%time\n",
    "\n",
    "TC= DecisionTreeClassifier(criterion='gini', max_depth=10,class_weight=\"balanced\")\n",
    "TC.fit(X_tr,y_tr)"
   ]
  },
  {
   "cell_type": "markdown",
   "metadata": {},
   "source": [
    "Résultats sur la base d'entrainement"
   ]
  },
  {
   "cell_type": "code",
   "execution_count": 70,
   "metadata": {},
   "outputs": [],
   "source": [
    "y_tr_pred = TC.predict_proba(X_tr)"
   ]
  },
  {
   "cell_type": "code",
   "execution_count": 71,
   "metadata": {},
   "outputs": [
    {
     "data": {
      "text/plain": [
       "0.9139954302860255"
      ]
     },
     "execution_count": 71,
     "metadata": {},
     "output_type": "execute_result"
    }
   ],
   "source": [
    "roc_auc_score(y_tr, y_tr_pred[:,1])"
   ]
  },
  {
   "cell_type": "markdown",
   "metadata": {},
   "source": [
    "Afin de tracer la matrice de confusion nous utilisons un seuil = 0.5 pour fixer les predictions. Pour cela nous utilisons la méthode predict."
   ]
  },
  {
   "cell_type": "code",
   "execution_count": 72,
   "metadata": {},
   "outputs": [],
   "source": [
    "y_tr_pred_class=TC.predict(X_tr)"
   ]
  },
  {
   "cell_type": "code",
   "execution_count": 73,
   "metadata": {},
   "outputs": [
    {
     "data": {
      "text/plain": [
       "array([[392240,  63771],\n",
       "       [  2900,  13521]], dtype=int64)"
      ]
     },
     "execution_count": 73,
     "metadata": {},
     "output_type": "execute_result"
    }
   ],
   "source": [
    "cm = confusion_matrix(y_tr, y_tr_pred_class)\n",
    "cm"
   ]
  },
  {
   "cell_type": "markdown",
   "metadata": {},
   "source": [
    "Résultats sur la base de validation "
   ]
  },
  {
   "cell_type": "code",
   "execution_count": 78,
   "metadata": {},
   "outputs": [],
   "source": [
    "y_val_pred = TC.predict_proba(X_val)"
   ]
  },
  {
   "cell_type": "code",
   "execution_count": 79,
   "metadata": {},
   "outputs": [
    {
     "data": {
      "text/plain": [
       "0.8849788823878135"
      ]
     },
     "execution_count": 79,
     "metadata": {},
     "output_type": "execute_result"
    }
   ],
   "source": [
    "roc_auc_score(y_val, y_val_pred[:,1])"
   ]
  },
  {
   "cell_type": "code",
   "execution_count": 76,
   "metadata": {},
   "outputs": [],
   "source": [
    "y_val_pred_class=TC.predict(X_val)"
   ]
  },
  {
   "cell_type": "code",
   "execution_count": 77,
   "metadata": {},
   "outputs": [
    {
     "data": {
      "text/plain": [
       "array([[97899, 15967],\n",
       "       [  940,  3302]], dtype=int64)"
      ]
     },
     "execution_count": 77,
     "metadata": {},
     "output_type": "execute_result"
    }
   ],
   "source": [
    "cm = confusion_matrix(y_val, y_val_pred_class)\n",
    "cm"
   ]
  },
  {
   "cell_type": "markdown",
   "metadata": {},
   "source": [
    "Ainsi, grâce à cet algorithme nous obtenons des résultats satisfaisants : sur la base d'entrainement nous obtenons une aire sous la courbe ROC égale à environ 88.5 %. En visualisant la matrice de confusion nous constatons que nous ne classons pas l'ensemble de nos individus dans la classe des non fraudeurs, ce qui était un risque lié au déséquilibre dans nos données."
   ]
  },
  {
   "cell_type": "markdown",
   "metadata": {},
   "source": [
    "#### Soumission des résultats sur Kaggle"
   ]
  },
  {
   "cell_type": "code",
   "execution_count": 90,
   "metadata": {},
   "outputs": [],
   "source": [
    "preds_test = TC.predict_proba(Test)\n",
    "\n",
    "temp1 = pd.DataFrame(Test['TransactionID'])\n",
    "temp2 = pd.DataFrame({'isFraud': preds_test[:,1]})\n",
    "\n",
    "submission_df = temp1.join(temp2)\n",
    "submission_df.to_csv('datasets/kaggle_submission_TreeDecision.csv', index = False)"
   ]
  },
  {
   "cell_type": "markdown",
   "metadata": {},
   "source": [
    "On obtient les résultats suivants après soumission sur Kaggle : <code>ROC AUC = 0.8519</code>."
   ]
  },
  {
   "cell_type": "markdown",
   "metadata": {},
   "source": [
    "  "
   ]
  },
  {
   "cell_type": "markdown",
   "metadata": {},
   "source": [
    "  "
   ]
  },
  {
   "cell_type": "markdown",
   "metadata": {
    "colab_type": "text",
    "id": "LiirAENJN6iY"
   },
   "source": [
    "# III-  Random Forest"
   ]
  },
  {
   "cell_type": "markdown",
   "metadata": {},
   "source": [
    "L'algorithme Random Forest est un algorithme de classification qui réduit la variance des prévisions d’un arbre de décision seul. Pour cela, il combine de nombreux arbres de décisions dans une approche de type bagging.\n",
    "\n",
    "Le bagging (boostrap aggragating) consiste à entrainer plusieurs classifieurs $(g_1, \\dots, g_T)$, avec $g_t \\colon \\mathbb R^d \\to \\{0,1\\}$ et de construire un nouveau classifieur en effectuant la moyenne des predictions des différents classifieurs\n",
    "$$\n",
    "    g_n^T(x) = \\operatorname{sign} \\left( \\frac{1}{T} \\sum_{t=1}^T g_t(x) \\right).\n",
    "$$\n",
    "\n",
    "Les classifieurs sont entrainés de façon quasiment indépendante en effectuant du bootstrap sur la base d'entrainement.\n",
    "\n"
   ]
  },
  {
   "cell_type": "markdown",
   "metadata": {},
   "source": [
    "Ainsi, comme pour l'algorithme de l'arbre de decision nous devons fixer une profondeur maximale de l'arbre et un critère d'impureté (gini ou entropy) mais nous devons également fixer le nombre de classifieurs à entrainer parallèlement.\n"
   ]
  },
  {
   "cell_type": "code",
   "execution_count": 44,
   "metadata": {},
   "outputs": [],
   "source": [
    "from sklearn.ensemble import RandomForestClassifier"
   ]
  },
  {
   "cell_type": "code",
   "execution_count": 60,
   "metadata": {},
   "outputs": [
    {
     "name": "stdout",
     "output_type": "stream",
     "text": [
      "Wall time: 7min 44s\n"
     ]
    },
    {
     "data": {
      "text/plain": [
       "<matplotlib.legend.Legend at 0x18a1be43108>"
      ]
     },
     "execution_count": 60,
     "metadata": {},
     "output_type": "execute_result"
    },
    {
     "data": {
      "image/png": "[encoded data removed]",
      "text/plain": [
       "<Figure size 720x360 with 1 Axes>"
      ]
     },
     "metadata": {
      "needs_background": "light"
     },
     "output_type": "display_data"
    }
   ],
   "source": [
    "%%time\n",
    "depths = [1,5,10,15,20]\n",
    "criteria = ['gini','entropy']\n",
    "\n",
    "train_auc = []\n",
    "test_auc = []\n",
    "for criterion in criteria:\n",
    "    train_auc.append([])  \n",
    "    test_auc.append([])\n",
    "    for depth in depths:\n",
    "        clf = RandomForestClassifier(n_estimators=50,  max_depth=depth,n_jobs=-1,criterion=criterion,class_weight=\"balanced\")\n",
    "        clf.fit(X_tr, y_tr)\n",
    "        train_pred = clf.predict_proba(X_tr)\n",
    "        y_pred = clf.predict_proba(X_val)\n",
    "        train_auc[-1].append(roc_auc_score(y_tr,train_pred[:,1]))\n",
    "        test_auc[-1].append( roc_auc_score(y_val,y_pred[:,1]))\n",
    "        \n",
    "plt.figure(figsize=(10, 5))\n",
    "colors = \"bgrc\"\n",
    "for ic, criterion in enumerate(criteria):\n",
    "    plt.scatter(depths, train_auc[ic], color=colors[ic], \n",
    "             label=criterion+\" (train)\")\n",
    "    plt.scatter(depths, test_auc[ic], color=colors[ic], marker = '+',\n",
    "           label=criterion+\" (test)\")\n",
    "    \n",
    "plt.xlabel(\"Tree depth\")\n",
    "plt.ylabel(\"ROC AUC SCORE\")\n",
    "plt.grid()\n",
    "plt.legend(loc=\"best\")"
   ]
  },
  {
   "cell_type": "markdown",
   "metadata": {},
   "source": [
    "Ainsi, nous constatons que le critère de gini est meilleur que celui de l'entropy, néanmoins la différence reste très faible. Par ailleurs, nous choisissons une profondeur d'arbre égale à 10. En effet, les résultats sur la base de validation n'augmentent pas significativement pour des profondeurs égales à 15 ou 20. Si nous augmentons trop ce paramètre, il y a un risque de sur apprentissage. Nous fixons donc cette valeur à 10. "
   ]
  },
  {
   "cell_type": "code",
   "execution_count": 61,
   "metadata": {},
   "outputs": [
    {
     "name": "stdout",
     "output_type": "stream",
     "text": [
      "Wall time: 2min 24s\n"
     ]
    },
    {
     "data": {
      "text/plain": [
       "<matplotlib.legend.Legend at 0x18a1ad3ad08>"
      ]
     },
     "execution_count": 61,
     "metadata": {},
     "output_type": "execute_result"
    },
    {
     "data": {
      "image/png": "[encoded data removed]",
      "text/plain": [
       "<Figure size 432x288 with 1 Axes>"
      ]
     },
     "metadata": {
      "needs_background": "light"
     },
     "output_type": "display_data"
    }
   ],
   "source": [
    "%%time\n",
    "\n",
    "\n",
    "\n",
    "n_estimators = [20, 50, 100]\n",
    "train_results = []\n",
    "test_results = []\n",
    "for estimator in n_estimators:\n",
    "    rf = RandomForestClassifier(n_estimators=estimator,  max_depth=10,n_jobs=-1,criterion='gini',class_weight=\"balanced\")\n",
    "    rf.fit(X_tr, y_tr)\n",
    "    train_pred = rf.predict_proba(X_tr)\n",
    "    roc_auc = roc_auc_score(y_tr,train_pred[:,1])\n",
    "    train_results.append(roc_auc)\n",
    "    y_pred = rf.predict_proba(X_val)\n",
    "    roc_auc =roc_auc_score(y_val,y_pred[:,1])\n",
    "    test_results.append(roc_auc)\n",
    "plt.scatter(n_estimators, train_results, color='blue',label=\"train\" )\n",
    "plt.scatter(n_estimators, test_results,  color='red',label=\"test\")\n",
    "\n",
    "plt.ylabel(\"AUC score\")\n",
    "plt.xlabel(\"n_estimators\")\n",
    "plt.grid()\n",
    "plt.legend(loc=\"best\")\n",
    "\n"
   ]
  },
  {
   "cell_type": "markdown",
   "metadata": {},
   "source": [
    "Nous choisissons de fixer le nombre d'estimateurs à 50. En effet, en passant à 100 classifieurs nous n'obtenons pas réellement une différence significative au niveau des résultats sur la base de validation."
   ]
  },
  {
   "cell_type": "code",
   "execution_count": 80,
   "metadata": {},
   "outputs": [
    {
     "name": "stdout",
     "output_type": "stream",
     "text": [
      "Wall time: 43.8 s\n"
     ]
    },
    {
     "data": {
      "text/plain": [
       "RandomForestClassifier(bootstrap=True, class_weight='balanced',\n",
       "                       criterion='gini', max_depth=10, max_features='auto',\n",
       "                       max_leaf_nodes=None, min_impurity_decrease=0.0,\n",
       "                       min_impurity_split=None, min_samples_leaf=1,\n",
       "                       min_samples_split=2, min_weight_fraction_leaf=0.0,\n",
       "                       n_estimators=50, n_jobs=-1, oob_score=False,\n",
       "                       random_state=None, verbose=0, warm_start=False)"
      ]
     },
     "execution_count": 80,
     "metadata": {},
     "output_type": "execute_result"
    }
   ],
   "source": [
    "%%time\n",
    "\n",
    "rf= RandomForestClassifier(n_estimators=50,\n",
    "                           criterion='gini', max_depth=10,\n",
    "                           n_jobs=-1, class_weight=\"balanced\")\n",
    "rf.fit(X_tr,y_tr)\n"
   ]
  },
  {
   "cell_type": "markdown",
   "metadata": {},
   "source": [
    "Résultats sur la base d'entrainement"
   ]
  },
  {
   "cell_type": "code",
   "execution_count": 81,
   "metadata": {},
   "outputs": [],
   "source": [
    "y_tr_pred = rf.predict_proba(X_tr)"
   ]
  },
  {
   "cell_type": "code",
   "execution_count": 82,
   "metadata": {},
   "outputs": [
    {
     "data": {
      "text/plain": [
       "0.9065713274340829"
      ]
     },
     "execution_count": 82,
     "metadata": {},
     "output_type": "execute_result"
    }
   ],
   "source": [
    "roc_auc_score(y_tr, y_tr_pred[:,1])"
   ]
  },
  {
   "cell_type": "code",
   "execution_count": 83,
   "metadata": {},
   "outputs": [],
   "source": [
    "y_tr_pred_class=rf.predict(X_tr)"
   ]
  },
  {
   "cell_type": "code",
   "execution_count": 84,
   "metadata": {},
   "outputs": [
    {
     "data": {
      "text/plain": [
       "array([[403920,  52091],\n",
       "       [  3799,  12622]], dtype=int64)"
      ]
     },
     "execution_count": 84,
     "metadata": {},
     "output_type": "execute_result"
    }
   ],
   "source": [
    "cm = confusion_matrix(y_tr, y_tr_pred_class)\n",
    "cm"
   ]
  },
  {
   "cell_type": "markdown",
   "metadata": {},
   "source": [
    "Résultats sur la base de validation "
   ]
  },
  {
   "cell_type": "code",
   "execution_count": 85,
   "metadata": {},
   "outputs": [],
   "source": [
    "y_val_pred = rf.predict_proba(X_val)"
   ]
  },
  {
   "cell_type": "code",
   "execution_count": 86,
   "metadata": {},
   "outputs": [
    {
     "data": {
      "text/plain": [
       "0.8956839579163057"
      ]
     },
     "execution_count": 86,
     "metadata": {},
     "output_type": "execute_result"
    }
   ],
   "source": [
    "roc_auc_score(y_val, y_val_pred[:,1])"
   ]
  },
  {
   "cell_type": "code",
   "execution_count": 87,
   "metadata": {},
   "outputs": [],
   "source": [
    "y_tr_val_class=rf.predict(X_val)"
   ]
  },
  {
   "cell_type": "code",
   "execution_count": 88,
   "metadata": {},
   "outputs": [
    {
     "data": {
      "text/plain": [
       "array([[97899, 15967],\n",
       "       [  940,  3302]], dtype=int64)"
      ]
     },
     "execution_count": 88,
     "metadata": {},
     "output_type": "execute_result"
    }
   ],
   "source": [
    "cm = confusion_matrix(y_val, y_val_pred_class)\n",
    "cm"
   ]
  },
  {
   "cell_type": "markdown",
   "metadata": {},
   "source": [
    "Ainsi, grâce à cet algorithme nous obtenons des résultats satisfaisants : sur la base d'entrainement nous obtenons une aire sous la courbe ROC égale à environ 89.5 %. Nous obtenons donc comme espéré de meilleurs résultats avec l'algorithme random forest qu'avec un seul arbre de décision. Néanmoins ces résultats restent proches."
   ]
  },
  {
   "cell_type": "markdown",
   "metadata": {},
   "source": [
    "#### Soumission des résultats sur Kaggle"
   ]
  },
  {
   "cell_type": "code",
   "execution_count": 89,
   "metadata": {},
   "outputs": [],
   "source": [
    "preds_test = rf.predict_proba(Test)\n",
    "\n",
    "temp1 = pd.DataFrame(Test['TransactionID'])\n",
    "temp2 = pd.DataFrame({'isFraud': preds_test[:,1]})\n",
    "\n",
    "submission_df = temp1.join(temp2)\n",
    "submission_df.to_csv('datasets/kaggle_submission_RandomForest.csv', index = False)"
   ]
  },
  {
   "cell_type": "markdown",
   "metadata": {},
   "source": [
    "On obtient les résultats suivants après soumission sur Kaggle : <code>ROC AUC = 0.8929</code>."
   ]
  },
  {
   "cell_type": "markdown",
   "metadata": {},
   "source": [
    "<br><br>\n",
    "\n",
    "# IV-  Réseau de neurones"
   ]
  },
  {
   "cell_type": "markdown",
   "metadata": {},
   "source": [
    "## IV- 1. Généralités\n",
    "\n",
    "Les réseaux de neurones artificiels font partie de la famille des algorithmes d'apprentissage supervisé qui consiste à apprendre une fonction de prédiction à partir d'une base de données labellisées. Plus formellement, l'apprentissage supervisé consiste à estimer une fonction $f$ à partir d'une base d'apprentissage $((x_i,f(x_i))_{i\\in [1,n]}$ et $\\forall{i},x_i \\in \\mathbb{R}^p,p\\geq 1$.  \n",
    "Le principe d'estimation est de trouver une fonction g,  une approximation de f qui minimise l'erreur moyenne $\\frac{1}{n}\\sum_{i=1}^{n} L(g(x_i),f(x_i))$ où L est une fonction de coût.  \n",
    "\n",
    "## IV- 2. Le neurone\n",
    "\n",
    "Ci-dessous la représentation d'un réseau de neurones à 6 couches:  \n",
    "\n",
    "<img src=\"images/reseaux.PNG\" width=\"500\"> \n",
    "\n",
    "Les couches vertes, bleues et rouges sont appelées respectivement les couches d'entrée, cachées et de sortie  du réseau. Quand il ya un très grand nombre de couches cachées, on parle alors de réseauprofond.  \n",
    "\n",
    "Un neurone est une unité élémentaire du réseau qui, sous la stimulation des neurones des couches précédentes, produit un signal de réponse transmis aux neurones des couches suivantes. Ce signal vaut typiquement $1$ si la stimulation du neurone est supérieure à un certain seuil d'activation, $0$ sinon. Les poids de connexion du neurone et ce seuil forment ainsi la mémoire ou la connaissance du neurone.\n",
    "\n",
    "Un neurone est modélisé de manière simple comme une unité de régression logistique définie comme la composition d'une fonction d'agrégation par une fonction d'activation. Le rôle de la fonction d'agrégation est de combiner les signaux d'entrées et les poids du neurone en une valeur scalaire, c'est-à-dire de former la stimulation du neurone. La fonction d'activation vise à produire la valeur de réponse du neurone en fonction de la valeur de combinaison, c'est-à-dire de comparer la stimulation au seuil d'activation. L'ensemble des poids de connexion et le seuil auront des valeurs déterminées durant la phase d'apprentissage. Ces paramètres caractérisent une partie de la connaissance acquise ou apprise par le neurone.\n",
    "\n",
    "Considérons le neurone $j$ de la couche $\\ell$ du réseau. La réponse produite par ce neurone est noté $a^{[\\ell]}_{j}$. On note $\\omega^{[\\ell]}_{j,k}$ le poids de connexion entre le neurone $j$ de la couche $\\ell$ et le neurone $k$ de la couche $\\ell-1$. Enfin, on note $b^{[\\ell]}_{j}$ le biais associé au neurone. La fonction de combinaison est une fonction linéaire de pondération des signaux d'entrée par les poids de connexion :\n",
    "$$\n",
    "z^{[\\ell]}_{j} = \\sum_{k} \\omega^{[\\ell]}_{j,k} \\: a^{[\\ell-1]}_{k} + b^{[\\ell]}_{j}.\n",
    "$$\n",
    "Notons que l'on a $a^{[0]} = x$ et $\\tilde{y} = a^{[L]}$ où $L$ est la dernière couche du réseau. L'application de fonction d'activation notée $\\sigma(z)$ produit la réponse du neurone :\n",
    "$$\n",
    "a^{[\\ell]}_{j} = \\sigma(z^{[\\ell]}_{j}).\n",
    "$$\n",
    "Dans la littérature, la fonction $\\sigma(z)$ est appelée fonction d'activation et peut avoir plusieurs formes ayant un impact sur la rapidité d'apprentissage.  \n",
    "\n",
    "## IV- 3. Principe d'apprentissage du réseau\n",
    "\n",
    "L'apprentissage par le réseau s'effectue en deux étapes: le forward propagation (propagation avance ) et le back propagation (propagation arrière ou rétro-propagation)  \n",
    "- **Le Forward propagation:**  \n",
    "Le forward propagation consiste à effectuer des opérations matricielles  entre la donnée d'entrée, les poids synaptiques, les biais et à appliquer les différentes fonctions d'activation.  \n",
    "- **Le back propagation:**  \n",
    "L'algorithme du back propagation est une méthode qui permet de former efficacement le réseau de neurones.\n",
    "Après une initialisation des paramètres du réseau (poids et biais), l'étape de la propagation avant permet d'obtenir une valeur prédicte. La rétro-propagation consiste à travers des algorithmes d'optimisation( algorithme de descente du gradient exploitant la règle de la chaîne ) à trouver les paramètres optimaux qui minimisent la fonction de coût( fonction de mesure de l'écart entre la vraie valeur et celle prédicte par le reseau).En un mot, la rétropropagation est une méthode itérative , récursive et efficace pour calculer les mises à jour des poids et biais afin d’améliorer le réseau jusqu’à ce qu’il soit capable d’exécuter la tâche pour laquelle il est formé. Mathématiquement cela consiste à résoudre le problème d'optimisation:\n",
    "\\begin{equation}\n",
    "argmin_{\\omega ,b} \\frac{1}{m} \\sum_{i} L({\\hat{y}^{(i)}}, y^{(i)})\n",
    "\\end{equation}  \n",
    "Dans notre situation (classification binaire), la fonction L est la fonction d'entropie croisée définie par:  \n",
    "$\\ell(\\hat{y}_j,y_j)=-y_jlog(\\hat{y_j})-(1-y_j)log(1-\\hat{y_j})$.  \n",
    "\n",
    "## IV- 4. Mise en place du modèle avec le module keras\n"
   ]
  },
  {
   "cell_type": "markdown",
   "metadata": {},
   "source": [
    "Avant la mise en place du modèle keras, nous avons décider d'appliquer l'ACP sur les données afin de réduire la dimension des données et donc réduire le nombre de paramètres du réseau"
   ]
  },
  {
   "cell_type": "code",
   "execution_count": 34,
   "metadata": {},
   "outputs": [
    {
     "data": {
      "text/plain": [
       "Text(0, 0.5, 'Cumulative explained variance')"
      ]
     },
     "execution_count": 34,
     "metadata": {},
     "output_type": "execute_result"
    },
    {
     "data": {
      "image/png": "[encoded data removed]",
      "text/plain": [
       "<Figure size 432x288 with 1 Axes>"
      ]
     },
     "metadata": {
      "needs_background": "light"
     },
     "output_type": "display_data"
    }
   ],
   "source": [
    "from sklearn.decomposition import PCA\n",
    "pca = PCA(n_components=200)\n",
    "pca.fit(X_rs)\n",
    "\n",
    "plt.plot(np.cumsum(pca.explained_variance_ratio_))\n",
    "plt.xlabel('Number of components')\n",
    "plt.ylabel('Cumulative explained variance')"
   ]
  },
  {
   "cell_type": "markdown",
   "metadata": {},
   "source": [
    "Comme l'indique le graphique, 95% de l'information contenue dans les données est répresentée par 12 composantes principales. Ainsi nous construirons notre modèle de réseaux de neurones avec une dimension de données égal à 12"
   ]
  },
  {
   "cell_type": "code",
   "execution_count": 38,
   "metadata": {},
   "outputs": [
    {
     "name": "stdout",
     "output_type": "stream",
     "text": [
      "(912022, 219)\n",
      "(912022, 12)\n",
      "(118108, 12)\n"
     ]
    }
   ],
   "source": [
    "NCOMPONENTS = 12\n",
    "\n",
    "pca = PCA(n_components=NCOMPONENTS)\n",
    "X_pca_ran = pca.fit_transform(X_ran)\n",
    "X_pca_val = pca.transform(X_val)\n",
    "print(X_ran.shape)\n",
    "print(X_pca_ran.shape)\n",
    "print(X_pca_val.shape)"
   ]
  },
  {
   "cell_type": "code",
   "execution_count": 40,
   "metadata": {},
   "outputs": [],
   "source": [
    "#Importation des bibliothèques utiles\n",
    "import keras\n",
    "import random\n",
    "from keras.models import Model,Sequential\n",
    "from keras.layers import Dense, Input, Dropout, BatchNormalization, Activation,GaussianNoise\n",
    "from keras.optimizers import Adam, Nadam\n",
    "from keras.callbacks import EarlyStopping\n",
    "from keras.initializers import he_normal\n",
    "from keras.utils import plot_model\n",
    "import tensorflow as tf\n",
    "import pydot"
   ]
  },
  {
   "cell_type": "markdown",
   "metadata": {},
   "source": [
    "On dévéloppe un callback pour la visualisation du score de ROC_AUC pendant l'entraitement:"
   ]
  },
  {
   "cell_type": "code",
   "execution_count": 41,
   "metadata": {},
   "outputs": [],
   "source": [
    "from keras.callbacks import Callback\n",
    "class RocCallback(Callback):\n",
    "    def __init__(self,training_data,validation_data):\n",
    "        self.x = training_data[0]\n",
    "        self.y = training_data[1]\n",
    "        self.x_val = validation_data[0]\n",
    "        self.y_val = validation_data[1]\n",
    "\n",
    "\n",
    "    def on_train_begin(self, logs={}):\n",
    "        return\n",
    "\n",
    "    def on_train_end(self, logs={}):\n",
    "        return\n",
    "\n",
    "    def on_epoch_begin(self, epoch, logs={}):\n",
    "        return\n",
    "\n",
    "    def on_epoch_end(self, epoch, logs={}):\n",
    "        y_pred_train = self.model.predict(self.x)\n",
    "        roc_train = roc_auc_score(self.y, y_pred_train)\n",
    "        y_pred_val = self.model.predict(self.x_val)\n",
    "        roc_val = roc_auc_score(self.y_val, y_pred_val)\n",
    "        print('\\rroc-auc_train: %s - roc-auc_val: %s' % (str(round(roc_train,4)),str(round(roc_val,4))),end=100*' '+'\\n')\n",
    "        return\n",
    "\n",
    "    def on_batch_begin(self, batch, logs={}):\n",
    "        return\n",
    "\n",
    "    def on_batch_end(self, batch, logs={}):\n",
    "        return"
   ]
  },
  {
   "cell_type": "markdown",
   "metadata": {},
   "source": [
    "Création du réseau de neurones"
   ]
  },
  {
   "cell_type": "code",
   "execution_count": 42,
   "metadata": {},
   "outputs": [],
   "source": [
    "def create_model():\n",
    "    inps = Input(shape=(NCOMPONENTS,))\n",
    "    x = Dense(1082, activation=\"relu\",kernel_initializer=\"uniform\")(inps)\n",
    "    x = BatchNormalization()(x)\n",
    "    x = Dropout(0.4)(x)\n",
    "    x = Dense(512, activation=\"relu\",kernel_initializer=\"uniform\")(x)\n",
    "    x = BatchNormalization()(x)\n",
    "    x = Dropout(0.3)(x)\n",
    "    x = Dense(256, activation=\"relu\",kernel_initializer=\"uniform\")(x)\n",
    "    x = BatchNormalization()(x)\n",
    "    x = Dropout(0.2)(x)\n",
    "    x = Dense(102, activation=\"relu\",kernel_initializer=\"uniform\")(x)\n",
    "    x = BatchNormalization()(x)\n",
    "    x = Dropout(0.2)(x)\n",
    "    x= Dense(200,activation=\"relu\",kernel_initializer=\"uniform\")(x)\n",
    "    x = Dense(1, activation='sigmoid',kernel_initializer=\"uniform\")(x)\n",
    "    model = Model(inputs=inps, outputs=x)\n",
    "    optimizer = Adam(lr=0.0005)\n",
    "    model.compile(\n",
    "        optimizer=optimizer,\n",
    "        loss=\"binary_crossentropy\",\n",
    "        metrics=[\"accuracy\"]\n",
    "    )\n",
    "    model.summary()\n",
    "    return model"
   ]
  },
  {
   "cell_type": "code",
   "execution_count": 43,
   "metadata": {},
   "outputs": [
    {
     "name": "stdout",
     "output_type": "stream",
     "text": [
      "WARNING:tensorflow:From /Users/raphaelmignot/anaconda3/lib/python3.7/site-packages/tensorflow/python/ops/nn_impl.py:180: add_dispatch_support.<locals>.wrapper (from tensorflow.python.ops.array_ops) is deprecated and will be removed in a future version.\n",
      "Instructions for updating:\n",
      "Use tf.where in 2.0, which has the same broadcast rule as np.where\n",
      "Model: \"model_1\"\n",
      "_________________________________________________________________\n",
      "Layer (type)                 Output Shape              Param #   \n",
      "=================================================================\n",
      "input_1 (InputLayer)         (None, 12)                0         \n",
      "_________________________________________________________________\n",
      "dense_1 (Dense)              (None, 1082)              14066     \n",
      "_________________________________________________________________\n",
      "batch_normalization_1 (Batch (None, 1082)              4328      \n",
      "_________________________________________________________________\n",
      "dropout_1 (Dropout)          (None, 1082)              0         \n",
      "_________________________________________________________________\n",
      "dense_2 (Dense)              (None, 512)               554496    \n",
      "_________________________________________________________________\n",
      "batch_normalization_2 (Batch (None, 512)               2048      \n",
      "_________________________________________________________________\n",
      "dropout_2 (Dropout)          (None, 512)               0         \n",
      "_________________________________________________________________\n",
      "dense_3 (Dense)              (None, 256)               131328    \n",
      "_________________________________________________________________\n",
      "batch_normalization_3 (Batch (None, 256)               1024      \n",
      "_________________________________________________________________\n",
      "dropout_3 (Dropout)          (None, 256)               0         \n",
      "_________________________________________________________________\n",
      "dense_4 (Dense)              (None, 102)               26214     \n",
      "_________________________________________________________________\n",
      "batch_normalization_4 (Batch (None, 102)               408       \n",
      "_________________________________________________________________\n",
      "dropout_4 (Dropout)          (None, 102)               0         \n",
      "_________________________________________________________________\n",
      "dense_5 (Dense)              (None, 200)               20600     \n",
      "_________________________________________________________________\n",
      "dense_6 (Dense)              (None, 1)                 201       \n",
      "=================================================================\n",
      "Total params: 754,713\n",
      "Trainable params: 750,809\n",
      "Non-trainable params: 3,904\n",
      "_________________________________________________________________\n"
     ]
    }
   ],
   "source": [
    "classifier=create_model()"
   ]
  },
  {
   "cell_type": "code",
   "execution_count": 44,
   "metadata": {},
   "outputs": [
    {
     "name": "stdout",
     "output_type": "stream",
     "text": [
      "WARNING:tensorflow:From /Users/raphaelmignot/anaconda3/lib/python3.7/site-packages/keras/backend/tensorflow_backend.py:422: The name tf.global_variables is deprecated. Please use tf.compat.v1.global_variables instead.\n",
      "\n",
      "Train on 912022 samples, validate on 118108 samples\n",
      "Epoch 1/8\n",
      "912022/912022 [==============================] - 791s 867us/step - loss: 0.6891 - accuracy: 0.5356 - val_loss: 0.6640 - val_accuracy: 0.4246\n",
      "roc-auc_train: 0.5563 - roc-auc_val: 0.5551                                                                                                    \n",
      "Epoch 2/8\n",
      "912022/912022 [==============================] - 653s 716us/step - loss: 0.6885 - accuracy: 0.5368 - val_loss: 0.6817 - val_accuracy: 0.5126\n",
      "roc-auc_train: 0.5545 - roc-auc_val: 0.5513                                                                                                    \n",
      "Epoch 3/8\n",
      "912022/912022 [==============================] - 570s 625us/step - loss: 0.6884 - accuracy: 0.5373 - val_loss: 0.6825 - val_accuracy: 0.3414\n",
      "roc-auc_train: 0.5563 - roc-auc_val: 0.5551                                                                                                    \n",
      "Epoch 4/8\n",
      "912022/912022 [==============================] - 569s 623us/step - loss: 0.6886 - accuracy: 0.5369 - val_loss: 0.6819 - val_accuracy: 0.3609\n",
      "roc-auc_train: 0.5563 - roc-auc_val: 0.5551                                                                                                    \n",
      "Epoch 5/8\n",
      "912022/912022 [==============================] - 570s 625us/step - loss: 0.6885 - accuracy: 0.5373 - val_loss: 0.7072 - val_accuracy: 0.3616\n",
      "roc-auc_train: 0.5563 - roc-auc_val: 0.5551                                                                                                    \n",
      "Epoch 6/8\n",
      "912022/912022 [==============================] - 571s 626us/step - loss: 0.6885 - accuracy: 0.5372 - val_loss: 0.6958 - val_accuracy: 0.3680\n",
      "roc-auc_train: 0.5563 - roc-auc_val: 0.5551                                                                                                    \n",
      "Epoch 7/8\n",
      "912022/912022 [==============================] - 572s 627us/step - loss: 0.6885 - accuracy: 0.5370 - val_loss: 0.6793 - val_accuracy: 0.4377\n",
      "roc-auc_train: 0.5563 - roc-auc_val: 0.5551                                                                                                    \n",
      "Epoch 8/8\n",
      "912022/912022 [==============================] - 584s 640us/step - loss: 0.6886 - accuracy: 0.5366 - val_loss: 0.6836 - val_accuracy: 0.3573\n",
      "roc-auc_train: 0.5563 - roc-auc_val: 0.5551                                                                                                    \n",
      "CPU times: user 5h 27s, sys: 5min 47s, total: 5h 6min 15s\n",
      "Wall time: 1h 53min 18s\n"
     ]
    },
    {
     "data": {
      "text/plain": [
       "<keras.callbacks.callbacks.History at 0x13d761a20>"
      ]
     },
     "execution_count": 44,
     "metadata": {},
     "output_type": "execute_result"
    }
   ],
   "source": [
    "%%time\n",
    "roc = RocCallback(training_data=(X_pca_ran, y_ran),\n",
    "                  validation_data=(X_pca_val, y_val))\n",
    "\n",
    "earlystopping=EarlyStopping(monitor='val_loss', patience=2, verbose=0, \n",
    "                            mode='auto', baseline=None, restore_best_weights=True)\n",
    "classifier.fit(\n",
    "    X_pca_ran, y_ran, epochs=8, batch_size=256, validation_data=(X_pca_val, y_val), verbose=True, \n",
    "    callbacks=[earlystopping,roc]\n",
    ")"
   ]
  },
  {
   "cell_type": "code",
   "execution_count": 45,
   "metadata": {},
   "outputs": [
    {
     "name": "stdout",
     "output_type": "stream",
     "text": [
      "ROC AUC = 0.555\n",
      "\n",
      "Matrice de confusion :\n",
      "[[47386 66480]\n",
      " [ 1478  2764]]\n"
     ]
    }
   ],
   "source": [
    "y_val_pred = classifier.predict(X_pca_val)\n",
    "print('ROC AUC = {}'.format(np.round(roc_auc_score(y_val,y_val_pred),3)))\n",
    "\n",
    "#Converting into binary values\n",
    "y_val_pred=y_val_pred>=0.5\n",
    "cm_nn = confusion_matrix(y_val, y_val_pred)\n",
    "print(\"\\nMatrice de confusion :\\n{}\".format(cm_nn))"
   ]
  },
  {
   "cell_type": "markdown",
   "metadata": {},
   "source": [
    "Nous avons un score faible avec ce modèle comparé aux autres algorithmes de classification utilisés. Celui-ci est légèrement meilleur qu'un lancer de pièce."
   ]
  },
  {
   "cell_type": "markdown",
   "metadata": {},
   "source": [
    "<br><br>\n",
    "\n",
    "# V-  Gradient Boosting"
   ]
  },
  {
   "cell_type": "markdown",
   "metadata": {},
   "source": [
    "## V- 1. Présentation de la méthode\n",
    "\n",
    "<b><u>Boosting</u></b> : Le boosting est une variante du bagging [Breiman, 1996]. Pour le bagging, on crée $B$ sous-échantillons en tirant uniformément (avec remise) dans le jeu de données, puis on fabrique $B$ estimateurs. Notre estimateur final est une aggrégation de ces $B$ estimateurs (ce qui permet d'obtenir un estimateur avec une variance réduite). En régression, nous prenons simplement la moyenne des $B$ estimateurs. En classification, on procède par vote majoritaire.<br>    \n",
    "    \n",
    "Lors de la procédure de boosting [<a href=\"http://rob.schapire.net/papers/strengthofweak.pdf\">Schapire, 1990</a>], on crée un premier échantillon en tirant uniformément dans le jeu. Puis, on crée un deuxième sous-échantillon en tirant d'abord les observations qui ont fait chuter le score global dans le sous-échantillon précédent, et on complète avec des observations tirées uniformément (avec remise également). On peut par exemple prendre une moitié correspondant à des observations mal classées par le premier estimateur, et une moitié aléatoire. Puis un troisième échantillon en prenant d'abord des observations pour lesquelles les deux premiers estimateurs sont en désaccord. Et ainsi de suite jusqu'à obtenir nos $B$ estimateurs. On effectue ensuite une aggrégation de ces estimateurs de la même manière que pour le <b>bagging</b>. Le boosting est donc strictement meilleur que le bagging.\n",
    "\n",
    "<u>Remarque</u> : En pratique, nous prenons $B\\approx 500$ sous-échantillons.\n",
    "\n",
    "Plus concrètement, notons $h_b$ $(b=1, ..., B)$ les estimateurs que nous obtenons sur chacun de nos sous-échantillons et $\\mathcal{H}$ l'ensemble sur lequel on tire ces estimateurs. Ceux-ci sont généralement des <b>estimateurs faibles</b> (<i>weak learners</i>). Un estimateur $h:\\mathbb{R}^D \\to \\mathcal{Y}$ est dit faible si :\n",
    "<ul>\n",
    "    <li>En régression : $h$ est au moins meilleur qu'une moyenne sur les $y_i$</li>\n",
    "    <li>En classification : $h$ est au moins meilleur qu'un lancer de pièce</li>\n",
    "</ul>  \n",
    "Ensuite, nous combinons ces $B$ estimateurs faibles (principe général de l'<b>apprentissage ensembliste</b>) de la manière suivante :\n",
    "$$g_B(x) = \\sum_{b=1}^B \\eta_b h_b(x)$$\n",
    "avec $\\eta_b \\in \\mathbb{R}$. Le but étant de trouver $h_1, ..., h_b, \\eta_1, ..., \\eta_B$ qui minimisent le score global $\\frac{1}{n} \\sum_{i=1}^n l(y_i,g_B(x_i))$. Cette méthode est donc très générale puisque les procédures qui créent les estimateurs $(h_b)_{b=1,...,B}$ peuvent être extrêment différentes. Par ailleurs, le résultat de l'algorithme dépend aussi du choix de la perte $l$.\n",
    "\n",
    "L'idée basique serait de trouver à chaque étape $b$ du boosting le meilleur estimateur en effectuant une <b>minimisation exacte</b>. On initialise un $\\hat h_1$ et un $\\hat \\eta_1$. Puis, on crée une suite $\\hat g_1, ..., \\hat g_B$ d'estimateurs idéaux ($\\hat g_1 = \\hat h_1$) : $b=1,...,B-1$\n",
    "$$(\\hat h_{b+1}, \\hat \\eta_{b+1}) = \\text{argmin}_{h \\in \\mathcal{H}, \\eta \\in \\mathbb{R}} \\sum_{i=1}^n l(y_i, \\hat g_b(x_i) + \\eta h(x_i) )$$\n",
    "et on fixe $$\\hat g_{b+1} = \\hat g_b + \\hat \\eta_{b+1} \\hat h_{b+1}$$\n",
    "On obtient l'estimateur $\\hat g(x) = \\hat g_B(x) = \\sum_{b=1}^B \\eta_b h_b(x)$. Cependant, comme on peut s'y attendre, cette procédure de minimisation exacte est en pratique trop compliquée à mettre en place. On introduit alors le concept de gradient boosting.\n",
    "\n",
    "<b><u>Gradient Boosting</u></b> : Le principe est de remplacer chaque étape de minimisation exacte par une étape de descente de gradient. On remplace $\\text{argmin}_{h \\in \\mathcal{H} } \\sum_{i=1}^n l(y_i, \\hat g_b(x_i) + \\eta h(x_i) )$ par \n",
    "$$\\text{argmin}_{u \\in \\mathbb{R} } \\sum_{i=1}^n l(y_i, \\hat g_b(x_i) + \\eta u )$$\n",
    "Etape 1 : On effectue un pas dans la direction suivante \n",
    "$$\\hat \\delta_b = \\nabla_u \\left( \\sum_{i=1}^n l(y_i, \\hat g_b(x_i) +u) \\right)_{| u=0}$$\n",
    "\n",
    "Etape 2 : Ensuite, il s'agit de prendre un $\\hat h \\in \\mathcal{H}$ proche de ce $\\hat \\delta_b$. On prends le minimiseur suivant :\n",
    "$$(\\hat h, \\hat \\nu) = \\text{argmin}_{h \\in \\mathcal{H}, \\nu \\in \\mathbb{R}} \\sum_{i=1}^n (\\nu h(x_i)) - \\hat \\delta_b(i))^2 $$\n",
    "\n",
    "Ainsi, pour la perte des moindres carrés par exemple, nous aurions \n",
    "$$\\hat \\delta_b^{MC} = (\\hat g_b(x_1) - y_1, ... , \\hat g_b(x_n) - y_n )^T$$\n",
    "et donc \n",
    "$$(\\hat h, \\hat \\nu) = \\text{argmin}_{h \\in \\mathcal{H}, \\nu \\in \\mathbb{R}} \\sum_{i=1}^n (\\nu h(x_i)) - \\hat g_b(x_i) + y_i)^2$$\n",
    "Nous cherchons donc un estimateur faible $\\hat h_{b+1}$ qui corrige l'erreur résiduelle à l'étape $b$ : $y_i - \\hat g_b(x_i)$. On détermine ensuite le $\\hat \\eta_{b+1}$ :\n",
    "$$\\hat \\eta_{b+1} = \\text{argmin}_{\\eta \\in \\mathbb{R}} \\sum_{i=1}^n l(y_i, \\hat g_b(x_i) + \\eta \\hat h_{b+1}(x_i) )$$\n",
    "On obtient à la fin de l'algorithme l'estimateur $\\hat g_B$.\n",
    "\n",
    "<u>Initialisation du gradient boosting</u> : on peut prendre par exemple l'estimateur suivant $\\hat g_0 = \\text{argmin}_{m \\in \\mathbb{R}} \\sum_{i=1}^n l(y_i,m)$ \n",
    "\n",
    "<u>Remarque</u> : Il existe de nombreuses implémentations de Gradient Boosting dans la littérature. On peut notamment citer : AdaBoost, XGBoost, pGBRT, scikit-learn, gbm (R).\n",
    "\n",
    "<u>Exemple</u> : AdaBoost (pour Adaptative Boosting) est une méthode connue de Gradient Boosting qui consiste à choisir la perte $l(x,y) = \\exp (xy)$. Ainsi, au fur et à mesure des étapes de boosting, on se focalise sur les observations qui sont mal estimées (facteur exponentiel). On utilise souvent cette méthode en prenant comme estimateurs faibles des arbres de décisions (ou CART).\n",
    "\n",
    "<br>\n"
   ]
  },
  {
   "cell_type": "markdown",
   "metadata": {},
   "source": [
    "## V- 2. XGBoost\n",
    "\n",
    "\n",
    "<a href=\"https://xgboost.readthedocs.io/en/latest/\">XGBoost</a> (pour eXtreme Gradient Boosting) est un algorithme basé sur la méthode du Gradient Boosting qui est optimisé pour fournir de bons résultats sur des problèmes très variés. Celui-ci utilise comme estimateurs faibles des arbres de décisions et ajoute une régularisation $\\Omega (h_b)$ pour limiter le sur-apprentissage. Parmi les implémentations de Gradient Boosting citées plus haut, XGBoost est la meilleure (cf \"<a href=\"https://arxiv.org/pdf/1603.02754.pdf\">XGBoost: A Scalable Tree Boosting System</a>\").\n",
    "\n",
    "Ainsi, nous avons (avec les mêmes notations que dans la section précédente :\n",
    "<ul>\n",
    "    <li>$\\mathcal{H} = $ CART (Classification And Regression Trees)</li>\n",
    "    <li>$\\hat h_{b+1} = \\text{argmin}_{h \\in \\mathcal{H}} \\sum_{i=1}^n l(y_i, \\hat g_b(x_i) + h(x_i) ) + \\Omega(h)$ avec $\\Omega(h) = \\gamma T + \\frac{1}{2} \\lambda||w||^2$ où $T$ est le nombre de feuilles de l'arbre, $w$ les poids, $(\\gamma, \\lambda)$ les paramètres de régularisation. Ainsi, le premier terme $\\gamma T$ pénalise les modèles complexes et le deuxième terme $\\frac{1}{2} \\lambda||w||^2$ permet d'éviter le sur-apprentissage.</li> \n",
    "</ul>   \n",
    "\n",
    "NB : Il est aussi possible de prendre $\\mathcal{H} = $ fonctions linéaires. \n",
    "\n",
    "<br><br>"
   ]
  },
  {
   "cell_type": "code",
   "execution_count": 46,
   "metadata": {},
   "outputs": [],
   "source": [
    "import xgboost as xgb"
   ]
  },
  {
   "cell_type": "markdown",
   "metadata": {},
   "source": [
    "<u>Données non équilibrées</u> : Nous disposons de données non équilibrée (beaucoup plus de non fraudeurs que de fraudeurs). XGBoost peut gérer cela à l'aide du paramètre <code>scale_pos_weight</code>. Dans notre classification binaire, on peut donner à ce paramètre par exemple le ratio d'instances négatives (non fraudeur) sur les instances positives (fraudeur) : \n",
    "\n",
    "$$\\frac{\\sum \\text{neg instances}}{\\sum \\text{pos instances}} $$"
   ]
  },
  {
   "cell_type": "code",
   "execution_count": 47,
   "metadata": {},
   "outputs": [
    {
     "name": "stdout",
     "output_type": "stream",
     "text": [
      "Nb de fraudeurs =  20663\n",
      "Nb de non fraudeurs =  569877\n",
      "ratio =  27.579586700866283\n"
     ]
    }
   ],
   "source": [
    "y_train = Train[target]\n",
    "x = np.array(y_train)\n",
    "print(\"Nb de fraudeurs = \",(x==1).sum())\n",
    "print(\"Nb de non fraudeurs = \", (x==0).sum())\n",
    "print(\"ratio = \", (x==0).sum()/(x==1).sum())"
   ]
  },
  {
   "cell_type": "markdown",
   "metadata": {},
   "source": [
    "On fixe donc notre paramètre <code>scale_pos_weight</code> :\n",
    "$$\\frac{\\sum \\text{not fraud}}{\\sum \\text{fraud}} \\approx 28$$\n",
    "Par ailleurs, nous utiliserons dans un premier temps les <a href=\"https://github.com/dmlc/xgboost/blob/master/doc/parameter.rst\">paramètres</a> suivants :\n",
    "<ul>\n",
    "    <li>les estimateurs faibles $(h_b)_{1 \\leq b \\leq B}$ CART : <code>booster='gbtree'</code>\n",
    "    <li>la profondeur des arbres de classification (profondeur $P$, nombre de feuilles $T$ : $T = 2^P$): <code>max_depth = 3</code></li>\n",
    "    <li>le pas : <code>learning_rate = 0.1</code></li>\n",
    "    <li>le nombre d'arbres par défaut : <code>n_estimators = 100</code></li>\n",
    "    <li>le terme de régularisation $\\lambda$ par défaut : <code>reg_lambda = 1</code> (correspond au $\\lambda$ dans la pénalisation $\\Omega(h) = \\gamma T + \\frac{1}{2} \\lambda||w||^2$)</li>\n",
    "    <li>la fonction objectif : <code>objective='binary:logistic'</code> qui renvoie des probabilités</li>\n",
    "    <li>la métrique d'évaluation : <code>eval_metric = error</code> (calculé par la formule : #(wrong cases)/#(all cases))\n",
    "</ul>    \n"
   ]
  },
  {
   "cell_type": "code",
   "execution_count": 48,
   "metadata": {},
   "outputs": [],
   "source": [
    "xg_clf = xgb.XGBClassifier(max_depth=3, learning_rate=0.1, reg_lambda=1, scale_pos_weight=28, objective='binary:logistic')"
   ]
  },
  {
   "cell_type": "code",
   "execution_count": 49,
   "metadata": {},
   "outputs": [
    {
     "name": "stdout",
     "output_type": "stream",
     "text": [
      "CPU times: user 11min 40s, sys: 11.1 s, total: 11min 51s\n",
      "Wall time: 11min 55s\n"
     ]
    },
    {
     "data": {
      "text/plain": [
       "XGBClassifier(base_score=0.5, booster='gbtree', colsample_bylevel=1,\n",
       "              colsample_bynode=1, colsample_bytree=1, gamma=0,\n",
       "              learning_rate=0.1, max_delta_step=0, max_depth=3,\n",
       "              min_child_weight=1, missing=None, n_estimators=100, n_jobs=1,\n",
       "              nthread=None, objective='binary:logistic', random_state=0,\n",
       "              reg_alpha=0, reg_lambda=1, scale_pos_weight=28, seed=None,\n",
       "              silent=None, subsample=1, verbosity=1)"
      ]
     },
     "execution_count": 49,
     "metadata": {},
     "output_type": "execute_result"
    }
   ],
   "source": [
    "%%time\n",
    "xg_clf.fit(X_tr, y_tr, eval_set=[(X_tr, y_tr), (X_val, y_val)], verbose=0)"
   ]
  },
  {
   "cell_type": "markdown",
   "metadata": {},
   "source": [
    "<br>\n",
    "\n",
    "<u>Performances</u> : Pour évaluer notre algorithme XGBoost on peut comme pour les autres méthodes regarder la matrice de confusion ainsi que l'AUC (<i>Area Under the Curve</i>) de la courbe ROC. On remarque par ailleurs que le processus d'apprentissage de l'algorithme à nos données a duré <b>13 minutes</b>. Cela est assez long, notamment si l'on veut modifier certains paramètres.\n",
    "\n",
    "<br>"
   ]
  },
  {
   "cell_type": "code",
   "execution_count": 50,
   "metadata": {},
   "outputs": [
    {
     "name": "stdout",
     "output_type": "stream",
     "text": [
      "ROC AUC = 0.81\n",
      "\n",
      "Matrice de confusion :\n",
      "[[96087 17779]\n",
      " [  952  3290]]\n"
     ]
    }
   ],
   "source": [
    "preds_xgb = xg_clf.predict(X_val)\n",
    "print('ROC AUC = {}'.format(np.round(roc_auc_score(y_val,preds_xgb),3)))\n",
    "cm_xgb = confusion_matrix(y_val, preds_xgb)\n",
    "print(\"\\nMatrice de confusion :\\n{}\".format(cm_xgb))"
   ]
  },
  {
   "cell_type": "markdown",
   "metadata": {},
   "source": [
    "<u>Observation</u> : On obtient un ROC AUC de 81.0%, ce qui est un score plutôt bon au vu des autres méthodes jusqu'ici utilisé."
   ]
  },
  {
   "cell_type": "markdown",
   "metadata": {},
   "source": [
    "#### Soumission des résultats sur Kaggle"
   ]
  },
  {
   "cell_type": "code",
   "execution_count": 51,
   "metadata": {},
   "outputs": [],
   "source": [
    "preds_test_xgb = xg_clf.predict(Test)\n",
    "\n",
    "temp1 = pd.DataFrame(Test['TransactionID'])\n",
    "temp2 = pd.DataFrame({'isFraud': preds_test_xgb})\n",
    "\n",
    "submission_df = temp1.join(temp2)\n",
    "submission_df.to_csv('datasets/kaggle_submission_xgb.csv', index = False)"
   ]
  },
  {
   "cell_type": "markdown",
   "metadata": {},
   "source": [
    "On obtient les résultats suivants après soumission sur Kaggle : <code>ROC AUC = 0.826326</code>."
   ]
  },
  {
   "cell_type": "markdown",
   "metadata": {},
   "source": [
    "<br><br>\n",
    "## V- 3. Light GBM\n",
    "\n",
    "LightGBM (pour Light Gradient Boosting Machine) [<a href=\"https://papers.nips.cc/paper/6907-lightgbm-a-highly-efficient-gradient-boosting-decision-tree.pdf\">Microsoft Research, 2017</a>] est une variante de Gradient Boosting qui incorpore deux nouvelles méthodes :\n",
    "<ul>\n",
    "    <li>Gradient-based One-Side Sampling</li>\n",
    "    <li>Exclusive Feature Bundling</li>\n",
    "</ul>\n",
    "qui permettent de meilleurs résultats lorsque le nombre d'observations est élevé pour le premier et lorsque le nombre de features est élevé pour le deuxième. Ici nous sommes dans les deux cas. Cet algorithme peut être, selon le contexte, meilleur que XGBoost. A noter que les chercheurs de Microsoft ont développé LightGBM après l'apparition de XGBoost (2014)."
   ]
  },
  {
   "cell_type": "code",
   "execution_count": 22,
   "metadata": {},
   "outputs": [],
   "source": [
    "import lightgbm as lgb"
   ]
  },
  {
   "cell_type": "markdown",
   "metadata": {},
   "source": [
    "<br>\n",
    "\n",
    "Comme pour XGBoost, il existe un paramètre <code>scale_pos_weight</code> qui permet de gérer les jeu de données non équilibrés. On fixe donc comme précédemment <code>scale_pos_weight = 28</code>.\n",
    "\n",
    "NB : il existe un paramètre <code>is_unbalanced</code> qui fait la même chose mais celui-ci calcule automatiquement le ratio. Pour avoir quelque chose proche des paramètres de XGBoost on privilégiera <code>scale_pos_weight</code>. \n",
    "\n",
    "Par ailleurs, nous utiliserons dans un premier temps les <a href=\"https://lightgbm.readthedocs.io/en/latest/Parameters.html\">paramètres</a> suivants :\n",
    "<ul>\n",
    "    <li>les arbres de classification comme estimateurs faibles $(h_b)_{1 \\leq b \\leq B}$ : <code>boosting='gbdt'</code> (Gradient Boosting Decision Tree)\n",
    "    <li>la profondeur des arbres de classification : <code>max_depth = 3</code></li>\n",
    "    <li>le pas : <code>learning_rate = 0.1</code></li>\n",
    "    <li>le nombre d'arbres par défaut : <code>n_estimators = 100</code></li>\n",
    "    <li>le terme de régularisation $\\lambda$ par défaut : <code>reg_lambda = 1</code></li>\n",
    "    <li>la fonction objectif : <code>objective='binary:logistic'</code> qui renvoie des probabilités</li>\n",
    "</ul>    \n",
    "\n",
    "<br>"
   ]
  },
  {
   "cell_type": "code",
   "execution_count": 23,
   "metadata": {},
   "outputs": [],
   "source": [
    "lgb_clf = lgb.LGBMClassifier(scale_pos_weight=28)"
   ]
  },
  {
   "cell_type": "code",
   "execution_count": 24,
   "metadata": {},
   "outputs": [
    {
     "name": "stdout",
     "output_type": "stream",
     "text": [
      "CPU times: user 1min 52s, sys: 3.44 s, total: 1min 55s\n",
      "Wall time: 38.9 s\n"
     ]
    }
   ],
   "source": [
    "%%time\n",
    "d_train = lgb.Dataset(X_tr, label=y_tr)\n",
    "params = {}\n",
    "params['objective'] = 'binary'\n",
    "params['scale_pos_weight'] = 28\n",
    "clf = lgb.train(params, d_train, 100)  #100 = nb of iterations"
   ]
  },
  {
   "cell_type": "code",
   "execution_count": 25,
   "metadata": {},
   "outputs": [
    {
     "name": "stdout",
     "output_type": "stream",
     "text": [
      "ROC AUC = 0.931\n",
      "\n",
      "Matrice de confusion :\n",
      "[[100986  12880]\n",
      " [   761   3481]]\n"
     ]
    }
   ],
   "source": [
    "#Prediction\n",
    "preds = clf.predict(X_val)\n",
    "print('ROC AUC = {}'.format(np.round(roc_auc_score(y_val,preds),3)))\n",
    "\n",
    "#Convert into binary values for confusion matrix\n",
    "for i in range(len(X_val)):\n",
    "    if preds[i]>=.5:       \n",
    "        preds[i]=1\n",
    "    else:  \n",
    "        preds[i]=0\n",
    "        \n",
    "cm = confusion_matrix(y_val, preds)\n",
    "print(\"\\nMatrice de confusion :\\n{}\".format(cm))"
   ]
  },
  {
   "cell_type": "markdown",
   "metadata": {},
   "source": [
    "<u>Observation</u> : On obtient un ROC AUC de <b>93.1%</b> ce qui est supérieur à celui obtenu par XGBoost. Par ailleurs, le temps d'apprentissage de l'algorithme est largement inférieur à celui de XGBoost : <b>30 secondes contre 13 minutes</b>.\n",
    "<br><br>\n",
    "On peut aussi regarder les résultats de prédictions avec le <i>train set</i> pour vérifier que l'on a un score assez proche de celui du <i>validation set</i>."
   ]
  },
  {
   "cell_type": "code",
   "execution_count": 32,
   "metadata": {},
   "outputs": [
    {
     "name": "stdout",
     "output_type": "stream",
     "text": [
      "ROC AUC train set = 0.943\n"
     ]
    }
   ],
   "source": [
    "#Prediction\n",
    "preds_tr = clf.predict(X_tr)\n",
    "\n",
    "print('ROC AUC train set = {}'.format(np.round(roc_auc_score(y_tr,preds_tr),3)))"
   ]
  },
  {
   "cell_type": "markdown",
   "metadata": {},
   "source": [
    "Et la matrice de confusion du <i>train set</i> est :"
   ]
  },
  {
   "cell_type": "code",
   "execution_count": 33,
   "metadata": {},
   "outputs": [
    {
     "name": "stdout",
     "output_type": "stream",
     "text": [
      "Matrice de confusion train set :\n",
      "[[404248  51763]\n",
      " [  2563  13858]]\n"
     ]
    }
   ],
   "source": [
    "#convert into binary values\n",
    "for i in range(len(X_tr)):\n",
    "    if preds_tr[i]>=.5:       \n",
    "        preds_tr[i]=1\n",
    "    else:  \n",
    "        preds_tr[i]=0\n",
    "cm_tr = confusion_matrix(y_tr, preds_tr)\n",
    "print(\"Matrice de confusion train set :\\n{}\".format(cm_tr))"
   ]
  },
  {
   "cell_type": "markdown",
   "metadata": {},
   "source": [
    "<u>Remarque</u> : Le ROC AUC pour le <i>train set</i> est légèrement supérieur (supérieur de 3 points). Ceci est normal et ne signifie pas nécessairement que l'on est en situation de sur-apprentissage."
   ]
  },
  {
   "cell_type": "markdown",
   "metadata": {},
   "source": [
    "#### Soumission des résultats sur Kaggle"
   ]
  },
  {
   "cell_type": "code",
   "execution_count": 70,
   "metadata": {},
   "outputs": [],
   "source": [
    "preds_test = clf.predict(Test)\n",
    "\n",
    "temp1 = pd.DataFrame(Test['TransactionID'])\n",
    "temp2 = pd.DataFrame({'isFraud': preds_test})\n",
    "\n",
    "submission_df = temp1.join(temp2)\n",
    "submission_df.to_csv('datasets/kaggle_submission_lgbm.csv', index = False)"
   ]
  },
  {
   "cell_type": "markdown",
   "metadata": {},
   "source": [
    "On obtient les résultats suivants après soumission sur Kaggle : <code>ROC AUC = 0.921088</code> (1940e place sur 6400)."
   ]
  },
  {
   "cell_type": "markdown",
   "metadata": {},
   "source": [
    "## V- 4. Conclusion \n",
    "\n",
    "Les performances du gradient boosting sont très bonnes, même avec les paramètres par défaut. Par ailleurs, on peut voir que le logiciel de Microsoft Research  est extrêmement rapide, ce qui est un net avantage sur XGBoost. Nous avons utilisé deux méthodes qui sont sans doute les plus employées actuellement parmi les méthodes de Gradient Boosting. Par ailleurs, une autre méthode très puissante que nous aurions pu utiliser est [CatBoost](https://catboost.ai/) dont le code est passé en open-source en avril 2017, juste après l'apparition de LightGBM (janvier 2017). Ce logiciel de Gradient Boosting a été développé par la société russe Yandex et rivalise souvent avec LightGBM et XGBoost."
   ]
  },
  {
   "cell_type": "markdown",
   "metadata": {},
   "source": [
    "<br><br>\n",
    "\n",
    "# VI- Support Vector Machine (SVM)"
   ]
  },
  {
   "cell_type": "markdown",
   "metadata": {},
   "source": [
    "Support Vector Machine (SVM) est un algorithme d'apprentissage machine supervisé capable d'effectuer une classification (linéaire et non linéaire), une régression et même une détection des valeurs aberrantes proposé par Valdimir Vapnik en 1963.\n",
    "\n",
    "## VI- 1. Fonctionnement de SVM\n",
    "#### 1) Cas linéairement séparable\n",
    "\n",
    "Le classificateur SVM linéaire fonctionne en traçant une ligne droite entre deux classes. Tous les points de données qui tombent du coté droit de la ligne seront étiquetés comme une classe {+} et tous les points qui tombent de l'autre côté seront étiquetés comme classe {-}. \n",
    "\n",
    "Cela semble assez simple, mais il y a une quantité infinie de lignes(hyperplan) parmi lesquelles vous pouvez choisir. Comment savoir quelle ligne permettra de classer au mieux les données ? C'est là que l'algorithme SVM Linéaire entre en jeu. \n",
    "\n",
    "L'algorithme SVM Linéaire va sélectionner une ligne qui non seulement sépare les deux classes mais qui reste aussi loin que possible des échantillons les plus proches. En fait, le \" vecteur support \" dans \" machine à vecteur support \" désigne deux vecteurs de position tirés de l'origine aux points qui dictent la limite de décision.\n",
    "\n",
    "<img src=\"images/image1.png\" width=\"500\"> \n",
    "\n",
    "##### Formulation du SVM\n",
    "\n",
    "Considérons nos données : $n$ points en $p$ dimensions, représentés par la matrice  $ X \\in \\mathbb{R}^{n \\times p}$, d'étiquettes représentées par un vecteur $ y \\in \\{-1,1\\}^n $.\\\\\n",
    "\n",
    "L'équation d'un hyperplan en dimension $p$ est paramétrée par les coordonnées du vecteur normal à cet hyperplan, $ \\textbf{w}\\in \\mathbb{R}^p$ ainsi que par un scalaire $ b \\in \\mathbb{R}$ . Nous pouvons ainsi poser que l'équation de notre hyperplan séparateur de marge maximale $ \\mathcal{H} $ est $ \\langle \\textbf{w},b \\rangle + b =0$ .\n",
    "\n",
    "Les hyperplans  $ \\mathcal{H}_+ $ et  $ \\mathcal{H} _-$ sont parallèles à  $ \\mathcal{H} $ et ont donc le même vecteur normal $ \\textbf{w}$  . De plus, ils sont équidistants par rapport à  $ \\mathcal{H} $ , et leurs équations peuvent donc s'écrire  $ \\mathcal{H}_+ $:$ \\langle \\textbf{w},b \\rangle + b =K$ et  $ \\mathcal{H}_- $:$ \\langle \\textbf{w},b \\rangle + b =-K$ ou K est une constante. Comme nous pouvons arbitrairement multiplier $ \\textbf{w}$ , b et K par n'importe quel scalaire pour obtenir les mêmes équations, nous pouvons fixer K=1 , et ainsi avoir   $ \\mathcal{H}_+ $:$ \\langle \\textbf{w},b \\rangle + b =1$ et  $ \\mathcal{H}_- $:$ \\langle \\textbf{w},b \\rangle + b =-1$.\n",
    "\n",
    "<img src=\"images/9.jpg\" width=\"500\"> \n",
    "\n",
    "En utilisant ces équations pour calculer la marge $ \\gamma $ on obtient: $ \\gamma = \\dfrac{2}{\\parallel \\textbf{w} \\parallel_2} $\n",
    "\n",
    "l'objectif consite à résoudre ce problème d'optimisation:\n",
    "\t$$ \\text{argmax}_{\\textbf{w}\\in\\mathbb{R}^p,b\\in \\mathbb{R} } \\dfrac{2}{\\parallel \\textbf{w} \\parallel_2} \\quad\\text{avec} \\quad  y_i \\left( \\langle \\textbf{w},x_i \\rangle + b\\right)  \\geq 1 \\qquad i \\in\\{1,....,n\\}$$\n",
    "    \n",
    "   Pour simplifier les calculs le probème devient:\n",
    "   \\begin{equation}\n",
    "\\left\\lbrace\n",
    "\\begin{array}{l l }\n",
    "\\text{min} \\quad  \\dfrac{1}{2} \\parallel \\textbf{w} \\parallel_2^2  &  \\textbf{w}\\in\\mathbb{R}^p,b\\in \\mathbb{R}\\\\\n",
    "\\text{s.c}  \\quad  y_i \\left( \\langle \\textbf{w},x_i \\rangle + b\\right)  \\geq 1 & \\quad \\forall i \\in\\{1,....,n\\}\n",
    "\\end{array}\n",
    "\\right.\n",
    "\\end{equation}\n",
    "\n",
    "\n",
    "\n",
    "avec pour fonction de décision: $ f(x)=\\langle \\textbf{w}^*,x \\rangle + b^*$\n"
   ]
  },
  {
   "cell_type": "markdown",
   "metadata": {},
   "source": [
    "Le problème défini par l'équation précédente est un problème d'optimisation convexe sous $ n $ contraintes affines. Par une technique connue sous le nom des multiplicateurs de Lagrange, ce problème primal peut être reformulé par \n",
    "\\begin{equation}\n",
    "\\left\\lbrace\n",
    "\\begin{array}{l l }\n",
    "\\max_{\\alpha\\in \\mathbb{R}^n} \\quad  - \\dfrac{1}{2} \\sum_{i=1}^{n}\\sum_{j=1}^{n} y_i y_j\\alpha_i \\alpha_j \\langle x_i,x_j \\rangle + \\sum_{i=1}^{n}\\alpha_i &  \\\\\n",
    "\\text{s.c}  \\quad \\alpha_i \\geq 0, \\quad \\forall i \\in\\{1,....,n\\} \\quad \\text{et} \\quad \\sum_{i=1}^{n}\\alpha_i y_i =0 \n",
    "\\end{array}\n",
    "\\right.\n",
    "\\end{equation}\n",
    "les coefficients $ \\alpha_i$ vérifient les conditions de Karush-Kuhn-Tucker.\n",
    "\n",
    "\n",
    "* soit  $  \\alpha_i=0$\n",
    "et  $ y_i \\left( \\langle \\textbf{w},x_i \\rangle + b\\right)  - 1  \\geq 0 $,\n",
    " alors:  $ y_i \\left( \\langle \\textbf{w},x_i \\rangle + b\\right)   > 1 $. En d'autres termes,  $ x_i$ est situé à l'extérieur de la frontière de la zone d'indécision. Cela voudrait que le nombres de contraintes effectifs qu'on aura dans le problème d'optimisation dépendra  simplement du nombre de points $ x_i $ qui seront sur $ \\mathcal{H}_+$ et $ \\mathcal{H}_-$, dans ce cas le nombre de variables ne sera plus $ n $ mais le nombre de points sur $ \\mathcal{H}_+$ et $ \\mathcal{H}_-$. \n",
    "\n",
    "\n",
    "* soit   $  \\alpha_i>0$\n",
    "et$ y_i \\left( \\langle \\textbf{w},x_i \\rangle + b\\right)  - 1  = 0 $ alors : $ y_i \\left( \\langle \\textbf{w},x_i \\rangle + b\\right)   = 1 $. En d'autres termes,  $ x_i $\n",
    "est situé sur la frontière de la  zone d'indécision.\n",
    "Cela signifie que les points $ x_i$\n",
    "pour lesquels  $  \\alpha_i>0$ sont les vecteurs de support, et ceux pour lesquels  $  \\alpha_i=0$ sont ceux situés loin de $ \\mathcal{H}_+$ et $ \\mathcal{H}_-$ .\n",
    "\n",
    "\n",
    "Ainsi le vecteur poids $ \\textbf{w}^* =  \\sum_{i=1}^{n} \\alpha_i y_i x_i \\alpha^*$ et\n",
    "$  b^* = - \\dfrac{\\max_{y_i=-1}\\langle \\textbf{w}^*,x_i \\rangle + \\min_{y_i=-1}\\langle \\textbf{w}^*,x_i \\rangle}{2} $\t\n",
    "\n",
    "## Remarque "
   ]
  },
  {
   "cell_type": "markdown",
   "metadata": {},
   "source": [
    "Autrement dit que certains points de notre jeu d'entraînement se retrouvent du mauvais côté de la frontière de la zone d'indécision, et que l'hyperplan ne soit pas la meilleur solution au problème de classement\n",
    "\n",
    "<img src=\"images/23.JPG\" width=\"500\"> \n",
    "\n",
    "\n",
    "En 1995, Vladimir Vapnik et Corinna Cortes ont proposé ue technique dite   Soft SVM qui tolère les mauvais classements. Cette technique cherche un hyperplan séparateur qui minimise le nombre d'erreurs grâce à l'introduction de variables relaxes $ \\xi_i$ (slack variable)  qui permettent le déplacement des points mal classés\n",
    "\n",
    "Le problème d'optimisation est équivalent à:\n",
    "  \\begin{equation}\n",
    "\\left\\lbrace\n",
    "\\begin{array}{l l l}\n",
    "\\text{min} \\quad  \\dfrac{1}{2} \\parallel \\textbf{w} \\parallel_2^2 + C \\sum_{i=1}^{n} \\xi_i, &  \\textbf{w}\\in\\mathbb{R}^p,b\\in \\mathbb{R} \\\\\n",
    "\\text{s.c}  \\quad   y_i \\left( \\langle \\textbf{w},x_i \\rangle + b\\right)   \\geq 1-\\xi_{i} & \\quad \\forall i \\in\\{1,...,n\\} \\\\ \n",
    "\\text{et} \\quad \\xi_i \\geq 0, \\quad \\forall i \\in\\{1,...,n\\}\n",
    "\\end{array}\n",
    "\\right.\n",
    "\\end{equation}\n",
    "\n",
    "\n",
    "Comme dans le cas de la SVM à vaste marge, il s'agit d'un problème d'optimisation convexe, cette fois sous $ 2n $ contraintes toutes affines.C'est ainsi qu'on introduit deux multiplicateurs de Lagrange par observation :$ \\alpha_i $ pour la première contrainte, et $ \\beta_i $ pour la deuxième. \n",
    "\n",
    "\n",
    "\\begin{equation}\n",
    "\\max_{\\alpha \\in \\mathbb{R}_{+}^n,\\beta\\in \\mathbb{R}_{+}^n} \\min_{\\textbf{w}\\in\\mathbb{R}^p,b\\in \\mathbb{R},\\xi\\in\\mathbb{R}^n}  \\dfrac{1}{2} \\parallel \\textbf{w} \\parallel_2^2- C\\sum_{i=1}^{n} \\xi_i -\\sum_{i=1}^{n} \\alpha_i\\left(  y_i \\left( \\langle \\textbf{w},x_i \\rangle + b\\right)  - 1 +\\xi_i \\right) - \\sum_{i=1}^{n} \\beta_i \\xi_i \n",
    "\\end{equation}\n",
    "\n",
    "la forulation duale du problème donne\n",
    "\n",
    "\\begin{equation}\n",
    "\\left\\lbrace\n",
    "\\begin{array}{l l l}\n",
    "\\textbf{maximiser} \\quad W(\\alpha) = - \\dfrac{1}{2} \\sum_{i=1}^{n}\\sum_{j=1}^{n} y_i y_j\\alpha_i \\alpha_j \\langle x_i,x_j \\rangle + \\sum_{i=1}^{n}\\alpha_i &\\\\\n",
    "\\textbf{s.c}  \\qquad\\quad  \\quad \\sum_{i=1}^{n}\\alpha_i y_i =0, \\quad \\text{et} & \\\\\n",
    "\\qquad \\qquad \\quad \\text{} \\quad  C\\geq \\alpha_i \\geq 0, \\quad \\forall i \\in\\{1,....,n\\}  \n",
    "\\end{array}\n",
    "\\right.\n",
    "\\end{equation}\n",
    "\n",
    "\n",
    "On obtient alors:\n",
    "\\begin{align*}\n",
    "\\text{w}^* &=  \\sum_{i=1}^{n} \\alpha_i y_i x_i\\\\\n",
    "0&= \\sum_{i=1}^{n} \\alpha_i y_i \\\\\n",
    "\\beta_i&=C-\\alpha_i\n",
    "\\end{align*}\n",
    "\n",
    "\n",
    "\\textbullet \\: $ \\alpha_i=0 $, dans ce cas $ \\beta_i=C>0 $ et $ y_i \\left( \\langle \\textbf{w},x_i \\rangle + b\\right)  - 1  > 0 $ Comme précédemment pour le cas linéairement séparable, le point $ x_i $ est à l'extérieur de la zone d'indécision  (frontière exclue) \\\\\n",
    "\n",
    "\\textbullet \\: $ 0<\\alpha <C $, Dans ce cas, $ \\xi =0$ (le point est correctement classifié) et $ y_i \\left( \\langle \\textbf{w},x_i \\rangle + b\\right)  - 1  = 0 $ . le point $ x_i $ est donc un vecteur de support \\\\\n",
    "\n",
    "\\textbullet \\: $ \\alpha_i =C $ , auquel cas $ \\xi_i > 0$ et le point  $ x_i $ est du mauvais côté  de la frontière de la zone d'indécision. \n",
    "\n",
    "<img src=\"images/28.JPG\" width=\"400\"> "
   ]
  },
  {
   "cell_type": "markdown",
   "metadata": {},
   "source": [
    "### 2) Cas non linéairement séparable\n",
    "La procédure de recherche de l'hyperplan séparateur telles que présentées pour l'instant ne permettent de résoudre que des problèmes  linéairement séparables en un mot cas idéal.  Dans la varie vie ce n'est pas souvent le cas \\\\\n",
    "\n",
    "Afin de remédier au problème de l'absence de séparateur linéaire, l’idée des SVM re-description consiste à plonger les données dans un espace de dimension supérieure, appelé espace de re-description, ensuite appliquer le séparateur linéaire aux données.\n",
    "\n",
    "<img src=\"images/31.JPG\" width=\"400\"> \n",
    "\n",
    "#### Formulation mathématique de l'astuce du Noyau\n",
    "Précédemment, on avait:\n",
    "\\begin{equation}\n",
    "\\left\\lbrace\n",
    "\\begin{array}{l l l}\n",
    "\\textbf{maximiser} \\quad W(\\alpha) = - \\dfrac{1}{2} \\sum_{i=1}^{n}\\sum_{j=1}^{n} y_i y_j\\alpha_i \\alpha_j \\langle x_i,x_j \\rangle + \\sum_{i=1}^{n}\\alpha_i &\\\\\n",
    "\\textbf{s.c}  \\qquad\\quad  \\quad \\sum_{i=1}^{n}\\alpha_i y_i =0, \\quad \\text{et} & \\\\\n",
    "\\qquad \\qquad \\quad \\text{} \\quad  C\\geq \\alpha_i \\geq 0, \\quad \\forall i \\in\\{1,....,n\\}  \n",
    "\\end{array}\n",
    "\\right.\n",
    "\\end{equation}\n",
    "\n",
    "\n",
    "L'idée consiste à redistribuer les points depuis l'espace de description vers l’espace de re-description, à l’aide d’une fonction $\\varphi$, nécessairement non-linéaire.\n",
    "$$\\begin{array}{ccccc}\n",
    "\\phi & : &  \\mathcal{E} & \\to & \\mathcal{F} \\\\\n",
    "& & x & \\mapsto & \\phi(x) \\\\\n",
    "\\end{array}$$\n",
    "\n",
    "<img src=\"images/35.JPG\" width=\"400\"> \n",
    "\n",
    "On applique toutes les techniques comme dans le problème d'optimisation précédent en remplaçant $ \\langle x_i,x_j \\rangle $ par $ \\langle \\phi( x_i),\\phi( x_j) \\rangle $  on obtient :\n",
    "\n",
    "\\begin{equation}\n",
    "\\left\\lbrace\n",
    "\\begin{array}{l l l}\n",
    "\\textbf{maximiser} \\quad W(\\alpha) = - \\dfrac{1}{2} \\sum_{i=1}^{n}\\sum_{j=1}^{n} y_i y_j\\alpha_i \\alpha_j \\langle \\phi( x_i),\\phi( x_j) \\rangle + \\sum_{i=1}^{n}\\alpha_i &\\\\\n",
    "\\textbf{s.c}  \\qquad\\quad  \\quad \\sum_{i=1}^{n}\\alpha_i y_i =0, \\quad \\text{et} & \\\\\n",
    "\\qquad \\qquad \\quad \\text{} \\quad  C\\geq \\alpha_i \\geq 0, \\quad \\forall i \\in\\{1,....,n\\}  \n",
    "\\end{array}\n",
    "\\right.\n",
    "\\end{equation}\n",
    "\n",
    "On appelle donc fonction noyau la fonction $K:\\mathcal{E}\\times \\mathcal{E}\\longrightarrow \\mathbb{R}$ définie de la façon suivante: $$K(x,x' )= \\langle \\phi( x),\\phi( x') \\rangle $$ \n",
    "\n",
    "Avec $ \\phi(x)=\\{\\varphi_k(x)\\}_{k\\leq d'}$, un vecteur non linéaire et $ d'$ dimension de l'espace de re-description\n",
    "\n",
    "la solution  est cette  forme est $ f(x) = \\sum_{i=1}^{n}  \\alpha_i y_i K(x_i,x) +b $\n",
    "\n",
    "##### Exemple de Noyaux Polynomiaux\n",
    "\n",
    "* Le noyau polynomial, $K(x,x') = \\left( \\langle x,x'\\rangle \\right) ^d$  ou  $ (\\alpha \\langle x,x'\\rangle+\\lambda)^d$\n",
    "\n",
    "* Le noyau gaussien, $K(x,x') = \\exp \\left(-\\frac{\\|x-x'\\|^2}{2\\sigma^2} \\right)$\n",
    "\n",
    "* Le noyau laplacien, $K(x,x') = \\exp \\left(-\\frac{\\|x-x'\\|}{\\sigma} \\right)$\n",
    "\n",
    "\n",
    "###### Pour résumer, voici les grandes idées à la base du kernel \n",
    "\n",
    "\n",
    "* Les données décrites dans l'espace d’entrée $\\mathcal{E}$ sont projetées dans un espace de re-description $\\mathcal{F}$.\n",
    "\n",
    "* Les algorithmes de recherche n'ont pas besoin de connaître les coordonnées des projections des données dans $\\mathcal{F}$, mais seulement leurs produits scalaires.\n",
    "\n",
    "* Ces produits scalaires peuvent être calculés efficacement grâce à l’utilisation de fonctions noyau.\n",
    "\n"
   ]
  },
  {
   "cell_type": "markdown",
   "metadata": {},
   "source": [
    "## VI- 2. Application aux données\n",
    "\n",
    "Cette méthode de calcul est efficace pour les ensembles de données de petite et moyenne taille, car l'espace de re-description peut être de très grande dimension, voire de dimension infinie. Mais, comme ci-dessus, cela devient presque infaisable pour les grands ensembles de données. Pour un jeu de données 100K , la matrice du noyau 𝐾 aura $10^{10}$ éléments, et peut prendre environ 80G de mémoires. La taille de notre jeu de données (472432, 739) , nous avons essayé de  lancer le programme mais  au bout de 8 heures nous n'avons pas eu de resultat escompté."
   ]
  },
  {
   "cell_type": "markdown",
   "metadata": {},
   "source": [
    "<u>Remarque</u> : Voici ce que cela donne avec un échantillon de taille 2000 (tiré aléatoirement parmi les 472432 observations). Sans surprise, les prédictions sont inutilisables."
   ]
  },
  {
   "cell_type": "code",
   "execution_count": 77,
   "metadata": {},
   "outputs": [
    {
     "name": "stdout",
     "output_type": "stream",
     "text": [
      "CPU times: user 1.35 s, sys: 16.9 ms, total: 1.37 s\n",
      "Wall time: 1.26 s\n"
     ]
    },
    {
     "data": {
      "text/plain": [
       "SVC(C=1.0, break_ties=False, cache_size=200, class_weight=None, coef0=0.0,\n",
       "    decision_function_shape='ovr', degree=3, gamma=0.01, kernel='rbf',\n",
       "    max_iter=-1, probability=False, random_state=None, shrinking=True,\n",
       "    tol=0.001, verbose=False)"
      ]
     },
     "execution_count": 77,
     "metadata": {},
     "output_type": "execute_result"
    }
   ],
   "source": [
    "%%time\n",
    "X_tr2 = pd.DataFrame.sample(X_tr, 2000, random_state = 2116)\n",
    "y_tr2 = pd.DataFrame.sample(y_tr, 2000, random_state = 2116)\n",
    "\n",
    "from sklearn.svm import SVC\n",
    "classifier=SVC(kernel=\"rbf\",gamma=0.01)\n",
    "classifier.fit(X_tr2, y_tr2)"
   ]
  },
  {
   "cell_type": "code",
   "execution_count": 78,
   "metadata": {},
   "outputs": [
    {
     "name": "stdout",
     "output_type": "stream",
     "text": [
      "CPU times: user 56.1 s, sys: 430 ms, total: 56.5 s\n",
      "Wall time: 57.2 s\n"
     ]
    }
   ],
   "source": [
    "%%time\n",
    "y_val_pred = classifier.predict(X_val)"
   ]
  },
  {
   "cell_type": "code",
   "execution_count": 79,
   "metadata": {},
   "outputs": [
    {
     "data": {
      "text/plain": [
       "0.5002357378595003"
      ]
     },
     "execution_count": 79,
     "metadata": {},
     "output_type": "execute_result"
    }
   ],
   "source": [
    "roc_auc_score(y_val, y_val_pred)"
   ]
  },
  {
   "cell_type": "markdown",
   "metadata": {},
   "source": [
    "<br><br>\n",
    "\n",
    "# VII- Conclusion"
   ]
  },
  {
   "cell_type": "markdown",
   "metadata": {},
   "source": [
    "Voici les résultats que nous avons obtenu avec nos différentes méthodes d'apprentissage supervisé :"
   ]
  },
  {
   "cell_type": "markdown",
   "metadata": {},
   "source": [
    "<table style=\"width:100%\">\n",
    "  <tr>\n",
    "    <th></th>\n",
    "    <th>Arbres de décision</th>\n",
    "    <th>Forêts aléatoires</th>\n",
    "    <th>Réseau de neurones</th>\n",
    "    <th>Gradient Boosting<br>XGBoost</th>\n",
    "    <th>Gradient Boosting<br>LightGBM</th>\n",
    "    <th>Machines à vecteurs de support</th>\n",
    "  </tr>\n",
    "  <tr>\n",
    "      <th>ROC AUC<br><i>validation set</i></th>  \n",
    "    <td>88.5</td>\n",
    "    <td>89.5</td>\n",
    "    <td>55.5</td>\n",
    "    <td>81.0</td>\n",
    "    <td>93.1</td>\n",
    "    <td>Trop de données</td>\n",
    "  </tr>\n",
    "  <tr>\n",
    "    <th>Temps pour apprentissage</th> \n",
    "    <td>30 sec</td>\n",
    "    <td>30 sec</td>\n",
    "    <td>16 min</td>\n",
    "    <td>13 min</td>\n",
    "    <td>30 sec</td>\n",
    "    <td>8+ heures</td>\n",
    "  </tr> \n",
    "  <tr>\n",
    "    <th>ROC AUC<br><i>test set</i></th> \n",
    "    <td>85.2</td>\n",
    "    <td>89.3</td>\n",
    "    <td>/</td>\n",
    "    <td>82.6</td>\n",
    "    <td>92.1</td>\n",
    "    <td>Trop de données</td>\n",
    "  </tr>   \n",
    "</table> "
   ]
  },
  {
   "cell_type": "markdown",
   "metadata": {},
   "source": [
    "Après soumission des résultats de chacune des méthodes sur Kaggle, le meilleur score est obtenu avec la méthode de Gradient Boosting LightGBM.\n",
    "\n",
    "A noter qu'ici nous comparons nos algorithmes avec l'aire sous la courbe ROC. Cette métrique est souvent utilisée en classification binaire et ici elle est particulièrement adaptée puisque notre but final est de détecter le maximum de fraudes, en prenant soin de ne pas faire bondir le nombre de faux positifs. Une autre métrique nous aurait donné des résultats différents selon les méthodes.\n",
    "\n",
    "<u>Remarque</u> : Le <i>test set</i> est utilisé pour envoyer ses résultats sur la page de la compétition Kaggle et ainsi obtenir son [classement](https://www.kaggle.com/c/ieee-fraud-detection/leaderboard). On peut voir que les 50 premières places ont un ROC AUC qui se situe dans l'intervalle $[93.5, 94.5]$. De plus, l'équipe qui a obtenu le meilleur score (<b>94.6</b>) a utilisé un mélange de quatre méthodes : LightGBM, XGBoost, CatBoost et un réseau de neurones.\n",
    "\n",
    "<u>Limitations</u> : \n",
    "A travers la résolution de notre problématique de classification binaire déséquilibrée, nous avons pu nous rendre compte de plusieurs choses. Ainsi, les SVM sont difficilement utilisables pour de grands jeux de données, du moins avec la puissance de calcul dont nous disposons. Ceci étant dû comme nous l'avons vu au stockage de la matrice du noyau ainsi qu'au temps d'apprentissage super-linéaire en le nombre d'observations. Les méthodes d'<b><i>under-sampling</i></b> et d'<b><i>over-sampling</i></b> que nous avons mis en place n'ont pas suffit pour réduire substantiellement le temps de calcul.<br>\n",
    "Par ailleurs, nous avons remarqué qu'il était plutôt aisé d'obtenir un certain score de base, mais il est assez complexe de grapiller quelques points sur la métrique (ici ROC AUC) afin d'augmenter ce score de base. Ainsi, ce n'est pas un hasard si une augmentation de 1 point de l'AUC que l'on a obtenu avec le logiciel LightGBM permettrait de grimper de 2000 places sur le classement Kaggle (et une augmentation de 2.5 points nous ferait gagner 20 000 dollars). Nous discutons ci-dessous de certains axes qui pourraient augmenter ce score.<br>\n",
    "Finalement, nous pouvons observer que les réseaux neuronaux nécessitent eux-aussi une grosse puissance de calcul, même après l'utilisation de techniques de <b>réduction de dimension</b> (ici une ACP).\n",
    "\n",
    "<u>Pistes d'amélioration</u> : Nous pourrions améliorer nos scores de différentes manières. Par exemple :\n",
    "<ul>\n",
    "    <li>Effectuer une <b>validation croisée</b> (méthode <i>k-fold cross-validation</i>) au lieu d'avoir un unique <i>validation set</i>.</li>\n",
    "    <li>Affiner le <b>traitement des valeurs manquantes</b> (on rappelle que l'on a mis de côté les variables qui avait plus de 50% de valeurs manquantes). </li>\n",
    "    <li>Effectuer une <b>recherche sur grille</b> (<i>grid-search</i>) pour trouver la meilleure combinaison d'hyperparamètres.</li>\n",
    "    <li><b>Combiner</b> les méthodes (comme l'équipe qui a remporté la compétition).</li>\n",
    "</ul>\n",
    "\n",
    "<u>Remarque</u> : Ces pistes peuvent nécessiter beaucoup de <b>puissance et de temps de calcul</b>."
   ]
  },
  {
   "cell_type": "markdown",
   "metadata": {},
   "source": [
    "<br>\n",
    "<br>\n",
    "<div align=\"right\">\n",
    "  Janvier 2020 - SAKARIA. DIARASSOUBA<br>\n",
    "  UE Machine Learning - Institut de Statistique de l'Université de Paris (ISUP)<br>\n",
    "  Professeur : Claire Boyer\n",
    "</div> \n"
   ]
  },
  {
   "cell_type": "code",
   "execution_count": null,
   "metadata": {},
   "outputs": [],
   "source": []
  }
 ],
 "metadata": {
  "accelerator": "GPU",
  "colab": {
   "collapsed_sections": [],
   "machine_shape": "hm",
   "name": "IEEE-Fraud Léo.ipynb",
   "provenance": []
  },
  "hide_input": false,
  "kernelspec": {
   "display_name": "Python 3",
   "language": "python",
   "name": "python3"
  },
  "language_info": {
   "codemirror_mode": {
    "name": "ipython",
    "version": 3
   },
   "file_extension": ".py",
   "mimetype": "text/x-python",
   "name": "python",
   "nbconvert_exporter": "python",
   "pygments_lexer": "ipython3",
   "version": "3.7.6"
  }
 },
 "nbformat": 4,
 "nbformat_minor": 4
}
